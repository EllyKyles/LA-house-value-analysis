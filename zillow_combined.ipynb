{
 "cells": [
  {
   "cell_type": "code",
   "execution_count": 97,
   "metadata": {},
   "outputs": [],
   "source": [
    "import pandas as pd\n",
    "import re\n",
    "import datetime\n",
    "\n",
    "orign_df = pd.read_csv('combined_zillow.csv')"
   ]
  },
  {
   "cell_type": "code",
   "execution_count": 98,
   "metadata": {
    "scrolled": true
   },
   "outputs": [
    {
     "data": {
      "text/html": [
       "<div>\n",
       "<style scoped>\n",
       "    .dataframe tbody tr th:only-of-type {\n",
       "        vertical-align: middle;\n",
       "    }\n",
       "\n",
       "    .dataframe tbody tr th {\n",
       "        vertical-align: top;\n",
       "    }\n",
       "\n",
       "    .dataframe thead th {\n",
       "        text-align: right;\n",
       "    }\n",
       "</style>\n",
       "<table border=\"1\" class=\"dataframe\">\n",
       "  <thead>\n",
       "    <tr style=\"text-align: right;\">\n",
       "      <th></th>\n",
       "      <th>title</th>\n",
       "      <th>price</th>\n",
       "      <th>bds</th>\n",
       "      <th>ba</th>\n",
       "      <th>sqft</th>\n",
       "      <th>time on zillow</th>\n",
       "      <th>veiws</th>\n",
       "      <th>saves</th>\n",
       "      <th>agent</th>\n",
       "      <th>type</th>\n",
       "      <th>parking</th>\n",
       "      <th>buit</th>\n",
       "      <th>history</th>\n",
       "      <th>HOA</th>\n",
       "      <th>schools</th>\n",
       "      <th>neighborhood_home</th>\n",
       "      <th>zillow_prediction</th>\n",
       "      <th>Zillow</th>\n",
       "      <th>city</th>\n",
       "    </tr>\n",
       "  </thead>\n",
       "  <tbody>\n",
       "    <tr>\n",
       "      <td>0</td>\n",
       "      <td>428 Silk Tree, Irvine, CA 92606</td>\n",
       "      <td>$565,000</td>\n",
       "      <td>2 bds</td>\n",
       "      <td>2 ba</td>\n",
       "      <td>1,261 sqft</td>\n",
       "      <td></td>\n",
       "      <td></td>\n",
       "      <td></td>\n",
       "      <td></td>\n",
       "      <td></td>\n",
       "      <td></td>\n",
       "      <td></td>\n",
       "      <td></td>\n",
       "      <td></td>\n",
       "      <td></td>\n",
       "      <td></td>\n",
       "      <td></td>\n",
       "      <td>555733</td>\n",
       "      <td>irvine</td>\n",
       "    </tr>\n",
       "    <tr>\n",
       "      <td>1</td>\n",
       "      <td>47 Spanish Lace, Irvine, CA 92620</td>\n",
       "      <td>$585,000</td>\n",
       "      <td>2 bds</td>\n",
       "      <td>2 ba</td>\n",
       "      <td>1,279 sqft</td>\n",
       "      <td>77</td>\n",
       "      <td>3,647</td>\n",
       "      <td>79</td>\n",
       "      <td>Brian Barbour  Berkshire Hathaway HomeService</td>\n",
       "      <td>Condo</td>\n",
       "      <td>2 spaces</td>\n",
       "      <td>2006</td>\n",
       "      <td>DATE\\tEVENT\\tPRICE 12/4/2019\\tPrice change\\t$5...</td>\n",
       "      <td>$125/mo</td>\n",
       "      <td>8/10 Woodbury Elementary School Grades:K-6 Dis...</td>\n",
       "      <td>Woodbury home values have fallen 0.4 % over th...</td>\n",
       "      <td>Zillow predicts the home values in Woodbury wi...</td>\n",
       "      <td>580856</td>\n",
       "      <td>irvine</td>\n",
       "    </tr>\n",
       "    <tr>\n",
       "      <td>2</td>\n",
       "      <td>213 Carmine, Irvine, CA 92618</td>\n",
       "      <td>$750,000</td>\n",
       "      <td>3 bds</td>\n",
       "      <td>3 ba</td>\n",
       "      <td>1,619 sqft</td>\n",
       "      <td>90</td>\n",
       "      <td>10,556</td>\n",
       "      <td>259</td>\n",
       "      <td>Ronnie And Cyrena  Berkshire Hathaway HomeService</td>\n",
       "      <td>Single Family</td>\n",
       "      <td>2 spaces</td>\n",
       "      <td>2018</td>\n",
       "      <td>DATE\\tEVENT\\tPRICE 12/3/2019\\tPrice change\\t$7...</td>\n",
       "      <td>$216/mo</td>\n",
       "      <td>8/10 Beacon Park Grades:K-8 Distance:0.5 mi NA...</td>\n",
       "      <td>92618 home values have fallen 0.4 % over the p...</td>\n",
       "      <td>Zillow predicts the home values in Orange Coun...</td>\n",
       "      <td>741157</td>\n",
       "      <td>irvine</td>\n",
       "    </tr>\n",
       "    <tr>\n",
       "      <td>3</td>\n",
       "      <td>8 Deodar St, Irvine, CA 92604</td>\n",
       "      <td>$728,800</td>\n",
       "      <td>4 bds</td>\n",
       "      <td>3 ba</td>\n",
       "      <td>1,642 sqft</td>\n",
       "      <td>82</td>\n",
       "      <td>13,793</td>\n",
       "      <td>357</td>\n",
       "      <td>Mana Aminian  First Team Real Estate</td>\n",
       "      <td>Single Family</td>\n",
       "      <td>2 spaces</td>\n",
       "      <td>1976</td>\n",
       "      <td>DATE\\tEVENT\\tPRICE 11/13/2019\\tPrice change\\t$...</td>\n",
       "      <td>$335/mo</td>\n",
       "      <td>8/10 Deerfield Elementary School Grades:K-6 Di...</td>\n",
       "      <td>El Camino Real home values have fallen 0.4 % o...</td>\n",
       "      <td>Zillow predicts the home values in El Camino R...</td>\n",
       "      <td>724958</td>\n",
       "      <td>irvine</td>\n",
       "    </tr>\n",
       "    <tr>\n",
       "      <td>4</td>\n",
       "      <td>137 Silverado, Irvine, CA 92618</td>\n",
       "      <td>$685,000</td>\n",
       "      <td>3 bds</td>\n",
       "      <td>3 ba</td>\n",
       "      <td>1,756 sqft</td>\n",
       "      <td>165</td>\n",
       "      <td>5,363</td>\n",
       "      <td>142</td>\n",
       "      <td>Kenneth Chao  Coldwell Banker George Realty</td>\n",
       "      <td>Condo</td>\n",
       "      <td>2 spaces</td>\n",
       "      <td>2010</td>\n",
       "      <td></td>\n",
       "      <td>$134/mo</td>\n",
       "      <td>9/10 Portola Springs Elementary Grades:K-6 Dis...</td>\n",
       "      <td>Portola Springs home values have fallen 0.4 % ...</td>\n",
       "      <td>Zillow predicts the home values in Portola Spr...</td>\n",
       "      <td>671833</td>\n",
       "      <td>irvine</td>\n",
       "    </tr>\n",
       "  </tbody>\n",
       "</table>\n",
       "</div>"
      ],
      "text/plain": [
       "                               title      price    bds    ba        sqft  \\\n",
       "0    428 Silk Tree, Irvine, CA 92606  $565,000   2 bds  2 ba  1,261 sqft   \n",
       "1  47 Spanish Lace, Irvine, CA 92620  $585,000   2 bds  2 ba  1,279 sqft   \n",
       "2      213 Carmine, Irvine, CA 92618  $750,000   3 bds  3 ba  1,619 sqft   \n",
       "3      8 Deodar St, Irvine, CA 92604  $728,800   4 bds  3 ba  1,642 sqft   \n",
       "4    137 Silverado, Irvine, CA 92618  $685,000   3 bds  3 ba  1,756 sqft   \n",
       "\n",
       "  time on zillow   veiws saves  \\\n",
       "0                                \n",
       "1             77   3,647    79   \n",
       "2             90  10,556   259   \n",
       "3             82  13,793   357   \n",
       "4            165   5,363   142   \n",
       "\n",
       "                                               agent           type   parking  \\\n",
       "0                                                                               \n",
       "1      Brian Barbour  Berkshire Hathaway HomeService          Condo  2 spaces   \n",
       "2  Ronnie And Cyrena  Berkshire Hathaway HomeService  Single Family  2 spaces   \n",
       "3               Mana Aminian  First Team Real Estate  Single Family  2 spaces   \n",
       "4        Kenneth Chao  Coldwell Banker George Realty          Condo  2 spaces   \n",
       "\n",
       "   buit                                            history      HOA  \\\n",
       "0                                                                     \n",
       "1  2006  DATE\\tEVENT\\tPRICE 12/4/2019\\tPrice change\\t$5...  $125/mo   \n",
       "2  2018  DATE\\tEVENT\\tPRICE 12/3/2019\\tPrice change\\t$7...  $216/mo   \n",
       "3  1976  DATE\\tEVENT\\tPRICE 11/13/2019\\tPrice change\\t$...  $335/mo   \n",
       "4  2010                                                     $134/mo   \n",
       "\n",
       "                                             schools  \\\n",
       "0                                                      \n",
       "1  8/10 Woodbury Elementary School Grades:K-6 Dis...   \n",
       "2  8/10 Beacon Park Grades:K-8 Distance:0.5 mi NA...   \n",
       "3  8/10 Deerfield Elementary School Grades:K-6 Di...   \n",
       "4  9/10 Portola Springs Elementary Grades:K-6 Dis...   \n",
       "\n",
       "                                   neighborhood_home  \\\n",
       "0                                                      \n",
       "1  Woodbury home values have fallen 0.4 % over th...   \n",
       "2  92618 home values have fallen 0.4 % over the p...   \n",
       "3  El Camino Real home values have fallen 0.4 % o...   \n",
       "4  Portola Springs home values have fallen 0.4 % ...   \n",
       "\n",
       "                                   zillow_prediction  Zillow    city  \n",
       "0                                                     555733  irvine  \n",
       "1  Zillow predicts the home values in Woodbury wi...  580856  irvine  \n",
       "2  Zillow predicts the home values in Orange Coun...  741157  irvine  \n",
       "3  Zillow predicts the home values in El Camino R...  724958  irvine  \n",
       "4  Zillow predicts the home values in Portola Spr...  671833  irvine  "
      ]
     },
     "execution_count": 98,
     "metadata": {},
     "output_type": "execute_result"
    }
   ],
   "source": [
    "orign_df.head(5)"
   ]
  },
  {
   "cell_type": "code",
   "execution_count": 99,
   "metadata": {},
   "outputs": [
    {
     "data": {
      "text/plain": [
       "'Zillow predicts the home values in Woodbury will fall 0.1% in the next year.'"
      ]
     },
     "execution_count": 99,
     "metadata": {},
     "output_type": "execute_result"
    }
   ],
   "source": [
    "orign_df[\"zillow_prediction\"][1]"
   ]
  },
  {
   "cell_type": "code",
   "execution_count": 100,
   "metadata": {},
   "outputs": [
    {
     "data": {
      "text/plain": [
       "' '"
      ]
     },
     "execution_count": 100,
     "metadata": {},
     "output_type": "execute_result"
    }
   ],
   "source": [
    "orign_df[\"history\"][0]"
   ]
  },
  {
   "cell_type": "code",
   "execution_count": 101,
   "metadata": {},
   "outputs": [],
   "source": [
    "df = orign_df.copy()"
   ]
  },
  {
   "cell_type": "code",
   "execution_count": 102,
   "metadata": {},
   "outputs": [],
   "source": [
    "df['zipcode'] = df['title'].str[-5:]"
   ]
  },
  {
   "cell_type": "code",
   "execution_count": 103,
   "metadata": {},
   "outputs": [
    {
     "data": {
      "text/plain": [
       "92618                256\n",
       "92602                 77\n",
       "92612                 74\n",
       "90301                 49\n",
       "90302                 46\n",
       "                    ... \n",
       "Bel Air                1\n",
       "University Hills       1\n",
       "Harbor Gateway         1\n",
       "Pico-Robertson         1\n",
       "Beverlywood            1\n",
       "Name: area, Length: 125, dtype: int64"
      ]
     },
     "execution_count": 103,
     "metadata": {},
     "output_type": "execute_result"
    }
   ],
   "source": [
    "# to create neighbor are column\n",
    "def get_area(row):\n",
    "    i = row.find(\"home\")\n",
    "    return row[:i]\n",
    "df[\"area\"]= df['neighborhood_home'].apply(get_area)\n",
    "\n",
    "df[\"area\"].value_counts()"
   ]
  },
  {
   "cell_type": "code",
   "execution_count": 104,
   "metadata": {},
   "outputs": [
    {
     "data": {
      "text/plain": [
       "increase    637\n",
       "rise        627\n",
       "fall        359\n",
       "decrease    304\n",
       "Name: prediction, dtype: int64"
      ]
     },
     "execution_count": 104,
     "metadata": {},
     "output_type": "execute_result"
    }
   ],
   "source": [
    "df[\"prediction\"] = df[\"zillow_prediction\"].str.split().str[-6]\n",
    "df[\"prediction\"].value_counts()"
   ]
  },
  {
   "cell_type": "code",
   "execution_count": 111,
   "metadata": {},
   "outputs": [
    {
     "data": {
      "text/plain": [
       "0.8%    260\n",
       "0%       92\n",
       "4.5%     92\n",
       "1.6%     80\n",
       "0.6%     71\n",
       "       ... \n",
       "8.2%      2\n",
       "8.5%      2\n",
       "5.4%      2\n",
       "6.3%      1\n",
       "9.8%      1\n",
       "Name: prediction_rate, Length: 71, dtype: int64"
      ]
     },
     "execution_count": 111,
     "metadata": {},
     "output_type": "execute_result"
    }
   ],
   "source": [
    "df[\"prediction_rate\"] = df[\"zillow_prediction\"].str.split().str[-5]\n",
    "df.drop(\"zillow_prediction\", axis = 1, inplace = True)\n",
    "df[\"prediction_rate\"].value_counts()\n"
   ]
  },
  {
   "cell_type": "code",
   "execution_count": 112,
   "metadata": {},
   "outputs": [],
   "source": [
    "def combine_prediction(row):\n",
    "    if row == 'rise':\n",
    "        return \"increase\"\n",
    "    elif row == \"fall\":\n",
    "        return \"decrease\"\n",
    "    else:\n",
    "        return row"
   ]
  },
  {
   "cell_type": "code",
   "execution_count": 113,
   "metadata": {},
   "outputs": [
    {
     "data": {
      "text/plain": [
       "increase    1264\n",
       "decrease     663\n",
       "Name: prediction_combined, dtype: int64"
      ]
     },
     "execution_count": 113,
     "metadata": {},
     "output_type": "execute_result"
    }
   ],
   "source": [
    "df[\"prediction_combined\"] = df[\"prediction\"].apply(combine_prediction) \n",
    "df[\"prediction_combined\"].value_counts()"
   ]
  },
  {
   "cell_type": "code",
   "execution_count": 121,
   "metadata": {},
   "outputs": [],
   "source": [
    "def try_float(x):\n",
    "    try:\n",
    "        float(x)\n",
    "        return True\n",
    "    except:\n",
    "        return False"
   ]
  },
  {
   "cell_type": "code",
   "execution_count": 122,
   "metadata": {},
   "outputs": [],
   "source": [
    "df = df.loc[~df.history.apply(try_float)]"
   ]
  },
  {
   "cell_type": "code",
   "execution_count": 123,
   "metadata": {},
   "outputs": [],
   "source": [
    "df = df.loc[~df.schools.apply(try_float)]"
   ]
  },
  {
   "cell_type": "code",
   "execution_count": 124,
   "metadata": {},
   "outputs": [],
   "source": [
    "def school_list(row):\n",
    "    school_list =[]\n",
    "    if row == \"\":\n",
    "        return None\n",
    "    else:\n",
    "        for i, v in enumerate(row.split(':')[::2][:3]):\n",
    "            ind = v.find('/')\n",
    "            if i == 0:\n",
    "                result = [v[:ind], v[ind+3:]]\n",
    "            else:\n",
    "                if len(v) > 6:\n",
    "                    result = [v[ind-1], v[ind+3:]]\n",
    "                else:\n",
    "                    result = 'None'\n",
    "            school_list.append(result)\n",
    "    return school_list"
   ]
  },
  {
   "cell_type": "code",
   "execution_count": 125,
   "metadata": {},
   "outputs": [
    {
     "data": {
      "text/plain": [
       "0                                                  [[, ]]\n",
       "1       [[8,  Woodbury Elementary School Grades], [0, ...\n",
       "2       [[8,  Beacon Park Grades], [e, 5 mi NA Portola...\n",
       "3       [[8,  Deerfield Elementary School Grades], [8,...\n",
       "4       [[9,  Portola Springs Elementary Grades], [0, ...\n",
       "                              ...                        \n",
       "1954    [[3,  Highland Elementary School Grades], [1, ...\n",
       "1955    [[2,  Payne (Beulah) Elementary School Grades]...\n",
       "1956    [[1,  Lane (Warren) Elementary School Grades],...\n",
       "1957    [[1,  Lane (Warren) Elementary School Grades],...\n",
       "1958    [[4,  La Tijera School Grades], [1,  Inglewood...\n",
       "Name: school_list, Length: 1658, dtype: object"
      ]
     },
     "execution_count": 125,
     "metadata": {},
     "output_type": "execute_result"
    }
   ],
   "source": [
    "df[\"school_list\"] = df[\"schools\"].apply(school_list) \n",
    "df[\"school_list\"]"
   ]
  },
  {
   "cell_type": "code",
   "execution_count": 129,
   "metadata": {},
   "outputs": [],
   "source": [
    "def history_convert(row):\n",
    "    clean_row = row[17:-1].split('\\t')\n",
    "    history_status = [v.strip() for v in clean_row[1::3]]\n",
    "    history_date = []\n",
    "    for v in clean_row[::3]:\n",
    "        if v != '':\n",
    "            result = datetime.datetime.strptime(v.strip(), '%m/%d/%Y')\n",
    "            history_date.append(result.date())\n",
    "        \n",
    "    history_price = []\n",
    "    for v in clean_row[2::3]:\n",
    "        ind = v.find(\"(\")\n",
    "        if ind > 0:\n",
    "            result = v[:ind].replace(\"$\", \"\").replace(\",\",\"\")\n",
    "        else:\n",
    "            result = v.replace(\"$\",\"\").replace(\",\",\"\")\n",
    "        history_price.append(float(result))\n",
    "    \n",
    "    return (history_date, history_status, history_price)"
   ]
  },
  {
   "cell_type": "code",
   "execution_count": 130,
   "metadata": {},
   "outputs": [],
   "source": [
    "df[\"history_date\"] = df[\"history\"].apply(lambda row:history_convert(row)[0])\n",
    "df[\"history_status\"] = df[\"history\"].apply(lambda row:history_convert(row)[1])\n",
    "df[\"history_price\"]= df[\"history\"].apply(lambda row:history_convert(row)[2])\n",
    "\n"
   ]
  },
  {
   "cell_type": "code",
   "execution_count": 131,
   "metadata": {},
   "outputs": [
    {
     "data": {
      "text/plain": [
       "0                                                      []\n",
       "1                    [2019-12-04, 2019-10-23, 2006-05-26]\n",
       "2                                [2019-12-03, 2019-10-10]\n",
       "3       [2019-11-13, 2019-10-18, 2019-06-06, 2007-08-1...\n",
       "4                                                      []\n",
       "                              ...                        \n",
       "1954                                         [2019-12-04]\n",
       "1955    [2020-01-08, 2019-12-11, 2019-12-06, 2019-11-2...\n",
       "1956                 [2006-09-22, 2004-05-14, 2002-12-09]\n",
       "1957                                         [1999-07-28]\n",
       "1958    [2009-09-10, 2009-06-13, 2009-04-04, 2008-07-1...\n",
       "Name: history_date, Length: 1658, dtype: object"
      ]
     },
     "execution_count": 131,
     "metadata": {},
     "output_type": "execute_result"
    }
   ],
   "source": [
    "df[\"history_date\"] "
   ]
  },
  {
   "cell_type": "code",
   "execution_count": 132,
   "metadata": {},
   "outputs": [
    {
     "data": {
      "text/plain": [
       "0                                                      []\n",
       "1                   [Price change, Listed for sale, Sold]\n",
       "2                         [Price change, Listed for sale]\n",
       "3       [Price change, Listed for sale, Sold, Sold, Sold]\n",
       "4                                                      []\n",
       "                              ...                        \n",
       "1954                                    [Listed for sale]\n",
       "1955    [Back on market, Pending sale, Price change, P...\n",
       "1956                                   [Sold, Sold, Sold]\n",
       "1957                                               [Sold]\n",
       "1958    [Sold, Price change, Listed for sale, Sold, Sold]\n",
       "Name: history_status, Length: 1658, dtype: object"
      ]
     },
     "execution_count": 132,
     "metadata": {},
     "output_type": "execute_result"
    }
   ],
   "source": [
    "df[\"history_status\"]"
   ]
  },
  {
   "cell_type": "code",
   "execution_count": 133,
   "metadata": {},
   "outputs": [
    {
     "data": {
      "text/plain": [
       "0                                                      []\n",
       "1                          [585000.0, 600000.0, 518000.0]\n",
       "2                                    [750000.0, 775000.0]\n",
       "3       [728800.0, 738800.0, 595500.0, 550000.0, 40500...\n",
       "4                                                      []\n",
       "                              ...                        \n",
       "1954                                           [810000.0]\n",
       "1955    [509900.0, 509900.0, 509900.0, 514000.0, 50990...\n",
       "1956                       [580000.0, 399000.0, 170000.0]\n",
       "1957                                           [175000.0]\n",
       "1958    [427000.0, 419900.0, 449900.0, 600000.0, 23500...\n",
       "Name: history_price, Length: 1658, dtype: object"
      ]
     },
     "execution_count": 133,
     "metadata": {},
     "output_type": "execute_result"
    }
   ],
   "source": [
    "df[\"history_price\"]"
   ]
  },
  {
   "cell_type": "code",
   "execution_count": 134,
   "metadata": {},
   "outputs": [],
   "source": [
    "new_df = df.copy()"
   ]
  },
  {
   "cell_type": "code",
   "execution_count": 135,
   "metadata": {},
   "outputs": [
    {
     "name": "stdout",
     "output_type": "stream",
     "text": [
      "(1658, 24)\n"
     ]
    },
    {
     "data": {
      "text/html": [
       "<div>\n",
       "<style scoped>\n",
       "    .dataframe tbody tr th:only-of-type {\n",
       "        vertical-align: middle;\n",
       "    }\n",
       "\n",
       "    .dataframe tbody tr th {\n",
       "        vertical-align: top;\n",
       "    }\n",
       "\n",
       "    .dataframe thead th {\n",
       "        text-align: right;\n",
       "    }\n",
       "</style>\n",
       "<table border=\"1\" class=\"dataframe\">\n",
       "  <thead>\n",
       "    <tr style=\"text-align: right;\">\n",
       "      <th></th>\n",
       "      <th>title</th>\n",
       "      <th>price</th>\n",
       "      <th>bds</th>\n",
       "      <th>ba</th>\n",
       "      <th>sqft</th>\n",
       "      <th>time on zillow</th>\n",
       "      <th>veiws</th>\n",
       "      <th>saves</th>\n",
       "      <th>agent</th>\n",
       "      <th>type</th>\n",
       "      <th>...</th>\n",
       "      <th>city</th>\n",
       "      <th>zipcode</th>\n",
       "      <th>area</th>\n",
       "      <th>prediction</th>\n",
       "      <th>prediction_combined</th>\n",
       "      <th>prediction_rate</th>\n",
       "      <th>school_list</th>\n",
       "      <th>history_date</th>\n",
       "      <th>history_status</th>\n",
       "      <th>history_price</th>\n",
       "    </tr>\n",
       "  </thead>\n",
       "  <tbody>\n",
       "    <tr>\n",
       "      <td>0</td>\n",
       "      <td>428 Silk Tree, Irvine, CA 92606</td>\n",
       "      <td>$565,000</td>\n",
       "      <td>2 bds</td>\n",
       "      <td>2 ba</td>\n",
       "      <td>1,261 sqft</td>\n",
       "      <td></td>\n",
       "      <td></td>\n",
       "      <td></td>\n",
       "      <td></td>\n",
       "      <td></td>\n",
       "      <td>...</td>\n",
       "      <td>irvine</td>\n",
       "      <td>92606</td>\n",
       "      <td></td>\n",
       "      <td>NaN</td>\n",
       "      <td>NaN</td>\n",
       "      <td>NaN</td>\n",
       "      <td>[[, ]]</td>\n",
       "      <td>[]</td>\n",
       "      <td>[]</td>\n",
       "      <td>[]</td>\n",
       "    </tr>\n",
       "    <tr>\n",
       "      <td>1</td>\n",
       "      <td>47 Spanish Lace, Irvine, CA 92620</td>\n",
       "      <td>$585,000</td>\n",
       "      <td>2 bds</td>\n",
       "      <td>2 ba</td>\n",
       "      <td>1,279 sqft</td>\n",
       "      <td>77</td>\n",
       "      <td>3,647</td>\n",
       "      <td>79</td>\n",
       "      <td>Brian Barbour  Berkshire Hathaway HomeService</td>\n",
       "      <td>Condo</td>\n",
       "      <td>...</td>\n",
       "      <td>irvine</td>\n",
       "      <td>92620</td>\n",
       "      <td>Woodbury</td>\n",
       "      <td>fall</td>\n",
       "      <td>decrease</td>\n",
       "      <td>0.1%</td>\n",
       "      <td>[[8,  Woodbury Elementary School Grades], [0, ...</td>\n",
       "      <td>[2019-12-04, 2019-10-23, 2006-05-26]</td>\n",
       "      <td>[Price change, Listed for sale, Sold]</td>\n",
       "      <td>[585000.0, 600000.0, 518000.0]</td>\n",
       "    </tr>\n",
       "    <tr>\n",
       "      <td>2</td>\n",
       "      <td>213 Carmine, Irvine, CA 92618</td>\n",
       "      <td>$750,000</td>\n",
       "      <td>3 bds</td>\n",
       "      <td>3 ba</td>\n",
       "      <td>1,619 sqft</td>\n",
       "      <td>90</td>\n",
       "      <td>10,556</td>\n",
       "      <td>259</td>\n",
       "      <td>Ronnie And Cyrena  Berkshire Hathaway HomeService</td>\n",
       "      <td>Single Family</td>\n",
       "      <td>...</td>\n",
       "      <td>irvine</td>\n",
       "      <td>92618</td>\n",
       "      <td>92618</td>\n",
       "      <td>fall</td>\n",
       "      <td>decrease</td>\n",
       "      <td>0.8%</td>\n",
       "      <td>[[8,  Beacon Park Grades], [e, 5 mi NA Portola...</td>\n",
       "      <td>[2019-12-03, 2019-10-10]</td>\n",
       "      <td>[Price change, Listed for sale]</td>\n",
       "      <td>[750000.0, 775000.0]</td>\n",
       "    </tr>\n",
       "    <tr>\n",
       "      <td>3</td>\n",
       "      <td>8 Deodar St, Irvine, CA 92604</td>\n",
       "      <td>$728,800</td>\n",
       "      <td>4 bds</td>\n",
       "      <td>3 ba</td>\n",
       "      <td>1,642 sqft</td>\n",
       "      <td>82</td>\n",
       "      <td>13,793</td>\n",
       "      <td>357</td>\n",
       "      <td>Mana Aminian  First Team Real Estate</td>\n",
       "      <td>Single Family</td>\n",
       "      <td>...</td>\n",
       "      <td>irvine</td>\n",
       "      <td>92604</td>\n",
       "      <td>El Camino Real</td>\n",
       "      <td>rise</td>\n",
       "      <td>increase</td>\n",
       "      <td>0.5%</td>\n",
       "      <td>[[8,  Deerfield Elementary School Grades], [8,...</td>\n",
       "      <td>[2019-11-13, 2019-10-18, 2019-06-06, 2007-08-1...</td>\n",
       "      <td>[Price change, Listed for sale, Sold, Sold, Sold]</td>\n",
       "      <td>[728800.0, 738800.0, 595500.0, 550000.0, 40500...</td>\n",
       "    </tr>\n",
       "    <tr>\n",
       "      <td>4</td>\n",
       "      <td>137 Silverado, Irvine, CA 92618</td>\n",
       "      <td>$685,000</td>\n",
       "      <td>3 bds</td>\n",
       "      <td>3 ba</td>\n",
       "      <td>1,756 sqft</td>\n",
       "      <td>165</td>\n",
       "      <td>5,363</td>\n",
       "      <td>142</td>\n",
       "      <td>Kenneth Chao  Coldwell Banker George Realty</td>\n",
       "      <td>Condo</td>\n",
       "      <td>...</td>\n",
       "      <td>irvine</td>\n",
       "      <td>92618</td>\n",
       "      <td>Portola Springs</td>\n",
       "      <td>decrease</td>\n",
       "      <td>decrease</td>\n",
       "      <td>0.6%</td>\n",
       "      <td>[[9,  Portola Springs Elementary Grades], [0, ...</td>\n",
       "      <td>[]</td>\n",
       "      <td>[]</td>\n",
       "      <td>[]</td>\n",
       "    </tr>\n",
       "  </tbody>\n",
       "</table>\n",
       "<p>5 rows × 24 columns</p>\n",
       "</div>"
      ],
      "text/plain": [
       "                               title      price    bds    ba        sqft  \\\n",
       "0    428 Silk Tree, Irvine, CA 92606  $565,000   2 bds  2 ba  1,261 sqft   \n",
       "1  47 Spanish Lace, Irvine, CA 92620  $585,000   2 bds  2 ba  1,279 sqft   \n",
       "2      213 Carmine, Irvine, CA 92618  $750,000   3 bds  3 ba  1,619 sqft   \n",
       "3      8 Deodar St, Irvine, CA 92604  $728,800   4 bds  3 ba  1,642 sqft   \n",
       "4    137 Silverado, Irvine, CA 92618  $685,000   3 bds  3 ba  1,756 sqft   \n",
       "\n",
       "  time on zillow   veiws saves  \\\n",
       "0                                \n",
       "1             77   3,647    79   \n",
       "2             90  10,556   259   \n",
       "3             82  13,793   357   \n",
       "4            165   5,363   142   \n",
       "\n",
       "                                               agent           type  ...  \\\n",
       "0                                                                    ...   \n",
       "1      Brian Barbour  Berkshire Hathaway HomeService          Condo  ...   \n",
       "2  Ronnie And Cyrena  Berkshire Hathaway HomeService  Single Family  ...   \n",
       "3               Mana Aminian  First Team Real Estate  Single Family  ...   \n",
       "4        Kenneth Chao  Coldwell Banker George Realty          Condo  ...   \n",
       "\n",
       "     city zipcode              area prediction prediction_combined  \\\n",
       "0  irvine   92606                          NaN                 NaN   \n",
       "1  irvine   92620         Woodbury        fall            decrease   \n",
       "2  irvine   92618            92618        fall            decrease   \n",
       "3  irvine   92604   El Camino Real        rise            increase   \n",
       "4  irvine   92618  Portola Springs    decrease            decrease   \n",
       "\n",
       "  prediction_rate                                        school_list  \\\n",
       "0             NaN                                             [[, ]]   \n",
       "1            0.1%  [[8,  Woodbury Elementary School Grades], [0, ...   \n",
       "2            0.8%  [[8,  Beacon Park Grades], [e, 5 mi NA Portola...   \n",
       "3            0.5%  [[8,  Deerfield Elementary School Grades], [8,...   \n",
       "4            0.6%  [[9,  Portola Springs Elementary Grades], [0, ...   \n",
       "\n",
       "                                        history_date  \\\n",
       "0                                                 []   \n",
       "1               [2019-12-04, 2019-10-23, 2006-05-26]   \n",
       "2                           [2019-12-03, 2019-10-10]   \n",
       "3  [2019-11-13, 2019-10-18, 2019-06-06, 2007-08-1...   \n",
       "4                                                 []   \n",
       "\n",
       "                                      history_status  \\\n",
       "0                                                 []   \n",
       "1              [Price change, Listed for sale, Sold]   \n",
       "2                    [Price change, Listed for sale]   \n",
       "3  [Price change, Listed for sale, Sold, Sold, Sold]   \n",
       "4                                                 []   \n",
       "\n",
       "                                       history_price  \n",
       "0                                                 []  \n",
       "1                     [585000.0, 600000.0, 518000.0]  \n",
       "2                               [750000.0, 775000.0]  \n",
       "3  [728800.0, 738800.0, 595500.0, 550000.0, 40500...  \n",
       "4                                                 []  \n",
       "\n",
       "[5 rows x 24 columns]"
      ]
     },
     "execution_count": 135,
     "metadata": {},
     "output_type": "execute_result"
    }
   ],
   "source": [
    "new_df = new_df.drop([\"history\",\"schools\",\"neighborhood_home\"], axis = 1)\n",
    "print(new_df.shape)\n",
    "new_df.head(5)"
   ]
  },
  {
   "cell_type": "code",
   "execution_count": 136,
   "metadata": {},
   "outputs": [
    {
     "name": "stdout",
     "output_type": "stream",
     "text": [
      "(1605, 24)\n"
     ]
    },
    {
     "data": {
      "text/plain": [
       "array([ 2,  3,  4,  7,  5,  6,  1,  8, 10, 17, 14, 12,  9, 15, 13, 11, 40])"
      ]
     },
     "execution_count": 136,
     "metadata": {},
     "output_type": "execute_result"
    }
   ],
   "source": [
    "# after excluding the studio, and lot records and then convert the rest of records from string to float data type \n",
    "new_df = new_df[(new_df[\"bds\"] != \"Studio\") & (new_df[\"bds\"].str.split().str[-1] != 'lot')]\n",
    "new_df[\"bds\"] = new_df[\"bds\"].str.split().str[0].astype('int')\n",
    "print(new_df.shape)\n",
    "new_df[\"bds\"].unique()\n"
   ]
  },
  {
   "cell_type": "code",
   "execution_count": 137,
   "metadata": {},
   "outputs": [
    {
     "name": "stdout",
     "output_type": "stream",
     "text": [
      "(1601, 24)\n"
     ]
    },
    {
     "data": {
      "text/plain": [
       "array([ 2. ,  3. , 11. ,  5. ,  4. ,  2.5,  9. ,  1. ,  6. ,  8. , 13. ,\n",
       "        7. , 10. ,  1.5,  3.5,  4.5,  5.5,  nan, 40. ])"
      ]
     },
     "execution_count": 137,
     "metadata": {},
     "output_type": "execute_result"
    }
   ],
   "source": [
    "# same as the baths\n",
    "new_df = new_df[new_df[\"ba\"] !='#NAME?']\n",
    "new_df[\"ba\"] = new_df[\"ba\"].str.split().str[0].astype('float')\n",
    "print(new_df.shape)\n",
    "new_df[\"ba\"].unique()\n",
    "\n"
   ]
  },
  {
   "cell_type": "code",
   "execution_count": 138,
   "metadata": {},
   "outputs": [
    {
     "data": {
      "text/plain": [
       "1,467 sqft       1\n",
       "4,780 sqft       1\n",
       "790 sqft         1\n",
       "14,257 sqft      1\n",
       "4,540 sqft       1\n",
       "              ... \n",
       "1 bd            20\n",
       "5 bds           22\n",
       "4 bds           44\n",
       "2 bds           91\n",
       "3 bds          101\n",
       "Name: sqft, Length: 978, dtype: int64"
      ]
     },
     "execution_count": 138,
     "metadata": {},
     "output_type": "execute_result"
    }
   ],
   "source": [
    "new_df[\"sqft\"].value_counts(ascending = True)"
   ]
  },
  {
   "cell_type": "code",
   "execution_count": 139,
   "metadata": {},
   "outputs": [],
   "source": [
    "# finding weird data of sqft column\n",
    "def convert_sqft(row):\n",
    "    result = row.split(\" \")\n",
    "    if result[-1] == 'sqft':\n",
    "        return float(result[0].replace(\",\",\"\"))\n",
    "    else:\n",
    "        return 0\n"
   ]
  },
  {
   "cell_type": "code",
   "execution_count": 140,
   "metadata": {},
   "outputs": [
    {
     "data": {
      "text/plain": [
       "0.0       305\n",
       "1204.0      8\n",
       "1300.0      6\n",
       "1800.0      5\n",
       "1440.0      5\n",
       "         ... \n",
       "3703.0      1\n",
       "1947.0      1\n",
       "1418.0      1\n",
       "4906.0      1\n",
       "1756.0      1\n",
       "Name: sqft_num, Length: 964, dtype: int64"
      ]
     },
     "execution_count": 140,
     "metadata": {},
     "output_type": "execute_result"
    }
   ],
   "source": [
    "new_df[\"sqft_num\"] = new_df[\"sqft\"].apply(convert_sqft)\n",
    "new_df[\"sqft_num\"].value_counts()"
   ]
  },
  {
   "cell_type": "code",
   "execution_count": 141,
   "metadata": {},
   "outputs": [],
   "source": [
    "new_df[\"time on zillow\"] = new_df[\"time on zillow\"].str[:-4]"
   ]
  },
  {
   "cell_type": "code",
   "execution_count": 142,
   "metadata": {},
   "outputs": [],
   "source": [
    "new_df[\"prediction_rate\"] = new_df[\"prediction_rate\"].str.replace(\"%\",\"\").astype('float')"
   ]
  },
  {
   "cell_type": "code",
   "execution_count": 143,
   "metadata": {},
   "outputs": [
    {
     "data": {
      "text/plain": [
       "0.8    90\n",
       "4.5    87\n",
       "1.4    59\n",
       "0.6    59\n",
       "2.1    57\n",
       "       ..\n",
       "6.0     2\n",
       "5.4     2\n",
       "8.2     2\n",
       "9.8     1\n",
       "6.3     1\n",
       "Name: prediction_rate, Length: 71, dtype: int64"
      ]
     },
     "execution_count": 143,
     "metadata": {},
     "output_type": "execute_result"
    }
   ],
   "source": [
    "new_df[\"prediction_rate\"].value_counts()"
   ]
  },
  {
   "cell_type": "code",
   "execution_count": 144,
   "metadata": {},
   "outputs": [],
   "source": [
    "import numpy as np\n",
    "new_df[\"time on zillow\"] = pd.to_numeric(new_df[\"time on zillow\"], errors='coerce').fillna(0).astype(np.int64)\n",
    "new_df[\"veiws\"] = pd.to_numeric(new_df[\"veiws\"], errors='coerce').fillna(0).astype(np.int64)\n",
    "new_df[\"saves\"] = pd.to_numeric(new_df[\"saves\"], errors='coerce').fillna(0).astype(np.int64)\n",
    "new_df[\"Zillow\"] = pd.to_numeric(new_df[\"Zillow\"], errors='coerce').fillna(0).astype(np.int64)"
   ]
  },
  {
   "cell_type": "code",
   "execution_count": 145,
   "metadata": {},
   "outputs": [
    {
     "data": {
      "text/html": [
       "<div>\n",
       "<style scoped>\n",
       "    .dataframe tbody tr th:only-of-type {\n",
       "        vertical-align: middle;\n",
       "    }\n",
       "\n",
       "    .dataframe tbody tr th {\n",
       "        vertical-align: top;\n",
       "    }\n",
       "\n",
       "    .dataframe thead th {\n",
       "        text-align: right;\n",
       "    }\n",
       "</style>\n",
       "<table border=\"1\" class=\"dataframe\">\n",
       "  <thead>\n",
       "    <tr style=\"text-align: right;\">\n",
       "      <th></th>\n",
       "      <th>title</th>\n",
       "      <th>price</th>\n",
       "      <th>bds</th>\n",
       "      <th>ba</th>\n",
       "      <th>sqft</th>\n",
       "      <th>time on zillow</th>\n",
       "      <th>veiws</th>\n",
       "      <th>saves</th>\n",
       "      <th>agent</th>\n",
       "      <th>type</th>\n",
       "      <th>...</th>\n",
       "      <th>zipcode</th>\n",
       "      <th>area</th>\n",
       "      <th>prediction</th>\n",
       "      <th>prediction_combined</th>\n",
       "      <th>prediction_rate</th>\n",
       "      <th>school_list</th>\n",
       "      <th>history_date</th>\n",
       "      <th>history_status</th>\n",
       "      <th>history_price</th>\n",
       "      <th>sqft_num</th>\n",
       "    </tr>\n",
       "  </thead>\n",
       "  <tbody>\n",
       "    <tr>\n",
       "      <td>0</td>\n",
       "      <td>428 Silk Tree, Irvine, CA 92606</td>\n",
       "      <td>$565,000</td>\n",
       "      <td>2</td>\n",
       "      <td>2.0</td>\n",
       "      <td>1,261 sqft</td>\n",
       "      <td>0</td>\n",
       "      <td>0</td>\n",
       "      <td>0</td>\n",
       "      <td></td>\n",
       "      <td></td>\n",
       "      <td>...</td>\n",
       "      <td>92606</td>\n",
       "      <td></td>\n",
       "      <td>NaN</td>\n",
       "      <td>NaN</td>\n",
       "      <td>NaN</td>\n",
       "      <td>[[, ]]</td>\n",
       "      <td>[]</td>\n",
       "      <td>[]</td>\n",
       "      <td>[]</td>\n",
       "      <td>1261.0</td>\n",
       "    </tr>\n",
       "    <tr>\n",
       "      <td>1</td>\n",
       "      <td>47 Spanish Lace, Irvine, CA 92620</td>\n",
       "      <td>$585,000</td>\n",
       "      <td>2</td>\n",
       "      <td>2.0</td>\n",
       "      <td>1,279 sqft</td>\n",
       "      <td>0</td>\n",
       "      <td>0</td>\n",
       "      <td>79</td>\n",
       "      <td>Brian Barbour  Berkshire Hathaway HomeService</td>\n",
       "      <td>Condo</td>\n",
       "      <td>...</td>\n",
       "      <td>92620</td>\n",
       "      <td>Woodbury</td>\n",
       "      <td>fall</td>\n",
       "      <td>decrease</td>\n",
       "      <td>0.1</td>\n",
       "      <td>[[8,  Woodbury Elementary School Grades], [0, ...</td>\n",
       "      <td>[2019-12-04, 2019-10-23, 2006-05-26]</td>\n",
       "      <td>[Price change, Listed for sale, Sold]</td>\n",
       "      <td>[585000.0, 600000.0, 518000.0]</td>\n",
       "      <td>1279.0</td>\n",
       "    </tr>\n",
       "    <tr>\n",
       "      <td>2</td>\n",
       "      <td>213 Carmine, Irvine, CA 92618</td>\n",
       "      <td>$750,000</td>\n",
       "      <td>3</td>\n",
       "      <td>3.0</td>\n",
       "      <td>1,619 sqft</td>\n",
       "      <td>0</td>\n",
       "      <td>0</td>\n",
       "      <td>259</td>\n",
       "      <td>Ronnie And Cyrena  Berkshire Hathaway HomeService</td>\n",
       "      <td>Single Family</td>\n",
       "      <td>...</td>\n",
       "      <td>92618</td>\n",
       "      <td>92618</td>\n",
       "      <td>fall</td>\n",
       "      <td>decrease</td>\n",
       "      <td>0.8</td>\n",
       "      <td>[[8,  Beacon Park Grades], [e, 5 mi NA Portola...</td>\n",
       "      <td>[2019-12-03, 2019-10-10]</td>\n",
       "      <td>[Price change, Listed for sale]</td>\n",
       "      <td>[750000.0, 775000.0]</td>\n",
       "      <td>1619.0</td>\n",
       "    </tr>\n",
       "    <tr>\n",
       "      <td>3</td>\n",
       "      <td>8 Deodar St, Irvine, CA 92604</td>\n",
       "      <td>$728,800</td>\n",
       "      <td>4</td>\n",
       "      <td>3.0</td>\n",
       "      <td>1,642 sqft</td>\n",
       "      <td>0</td>\n",
       "      <td>0</td>\n",
       "      <td>357</td>\n",
       "      <td>Mana Aminian  First Team Real Estate</td>\n",
       "      <td>Single Family</td>\n",
       "      <td>...</td>\n",
       "      <td>92604</td>\n",
       "      <td>El Camino Real</td>\n",
       "      <td>rise</td>\n",
       "      <td>increase</td>\n",
       "      <td>0.5</td>\n",
       "      <td>[[8,  Deerfield Elementary School Grades], [8,...</td>\n",
       "      <td>[2019-11-13, 2019-10-18, 2019-06-06, 2007-08-1...</td>\n",
       "      <td>[Price change, Listed for sale, Sold, Sold, Sold]</td>\n",
       "      <td>[728800.0, 738800.0, 595500.0, 550000.0, 40500...</td>\n",
       "      <td>1642.0</td>\n",
       "    </tr>\n",
       "    <tr>\n",
       "      <td>4</td>\n",
       "      <td>137 Silverado, Irvine, CA 92618</td>\n",
       "      <td>$685,000</td>\n",
       "      <td>3</td>\n",
       "      <td>3.0</td>\n",
       "      <td>1,756 sqft</td>\n",
       "      <td>0</td>\n",
       "      <td>0</td>\n",
       "      <td>142</td>\n",
       "      <td>Kenneth Chao  Coldwell Banker George Realty</td>\n",
       "      <td>Condo</td>\n",
       "      <td>...</td>\n",
       "      <td>92618</td>\n",
       "      <td>Portola Springs</td>\n",
       "      <td>decrease</td>\n",
       "      <td>decrease</td>\n",
       "      <td>0.6</td>\n",
       "      <td>[[9,  Portola Springs Elementary Grades], [0, ...</td>\n",
       "      <td>[]</td>\n",
       "      <td>[]</td>\n",
       "      <td>[]</td>\n",
       "      <td>1756.0</td>\n",
       "    </tr>\n",
       "  </tbody>\n",
       "</table>\n",
       "<p>5 rows × 25 columns</p>\n",
       "</div>"
      ],
      "text/plain": [
       "                               title      price  bds   ba        sqft  \\\n",
       "0    428 Silk Tree, Irvine, CA 92606  $565,000     2  2.0  1,261 sqft   \n",
       "1  47 Spanish Lace, Irvine, CA 92620  $585,000     2  2.0  1,279 sqft   \n",
       "2      213 Carmine, Irvine, CA 92618  $750,000     3  3.0  1,619 sqft   \n",
       "3      8 Deodar St, Irvine, CA 92604  $728,800     4  3.0  1,642 sqft   \n",
       "4    137 Silverado, Irvine, CA 92618  $685,000     3  3.0  1,756 sqft   \n",
       "\n",
       "   time on zillow  veiws  saves  \\\n",
       "0               0      0      0   \n",
       "1               0      0     79   \n",
       "2               0      0    259   \n",
       "3               0      0    357   \n",
       "4               0      0    142   \n",
       "\n",
       "                                               agent           type  ...  \\\n",
       "0                                                                    ...   \n",
       "1      Brian Barbour  Berkshire Hathaway HomeService          Condo  ...   \n",
       "2  Ronnie And Cyrena  Berkshire Hathaway HomeService  Single Family  ...   \n",
       "3               Mana Aminian  First Team Real Estate  Single Family  ...   \n",
       "4        Kenneth Chao  Coldwell Banker George Realty          Condo  ...   \n",
       "\n",
       "  zipcode              area prediction  prediction_combined prediction_rate  \\\n",
       "0   92606                          NaN                  NaN             NaN   \n",
       "1   92620         Woodbury        fall             decrease             0.1   \n",
       "2   92618            92618        fall             decrease             0.8   \n",
       "3   92604   El Camino Real        rise             increase             0.5   \n",
       "4   92618  Portola Springs    decrease             decrease             0.6   \n",
       "\n",
       "                                         school_list  \\\n",
       "0                                             [[, ]]   \n",
       "1  [[8,  Woodbury Elementary School Grades], [0, ...   \n",
       "2  [[8,  Beacon Park Grades], [e, 5 mi NA Portola...   \n",
       "3  [[8,  Deerfield Elementary School Grades], [8,...   \n",
       "4  [[9,  Portola Springs Elementary Grades], [0, ...   \n",
       "\n",
       "                                        history_date  \\\n",
       "0                                                 []   \n",
       "1               [2019-12-04, 2019-10-23, 2006-05-26]   \n",
       "2                           [2019-12-03, 2019-10-10]   \n",
       "3  [2019-11-13, 2019-10-18, 2019-06-06, 2007-08-1...   \n",
       "4                                                 []   \n",
       "\n",
       "                                      history_status  \\\n",
       "0                                                 []   \n",
       "1              [Price change, Listed for sale, Sold]   \n",
       "2                    [Price change, Listed for sale]   \n",
       "3  [Price change, Listed for sale, Sold, Sold, Sold]   \n",
       "4                                                 []   \n",
       "\n",
       "                                       history_price  sqft_num  \n",
       "0                                                 []    1261.0  \n",
       "1                     [585000.0, 600000.0, 518000.0]    1279.0  \n",
       "2                               [750000.0, 775000.0]    1619.0  \n",
       "3  [728800.0, 738800.0, 595500.0, 550000.0, 40500...    1642.0  \n",
       "4                                                 []    1756.0  \n",
       "\n",
       "[5 rows x 25 columns]"
      ]
     },
     "execution_count": 145,
     "metadata": {},
     "output_type": "execute_result"
    }
   ],
   "source": [
    "new_df.head(5)"
   ]
  },
  {
   "cell_type": "code",
   "execution_count": 146,
   "metadata": {},
   "outputs": [
    {
     "data": {
      "text/html": [
       "<div>\n",
       "<style scoped>\n",
       "    .dataframe tbody tr th:only-of-type {\n",
       "        vertical-align: middle;\n",
       "    }\n",
       "\n",
       "    .dataframe tbody tr th {\n",
       "        vertical-align: top;\n",
       "    }\n",
       "\n",
       "    .dataframe thead th {\n",
       "        text-align: right;\n",
       "    }\n",
       "</style>\n",
       "<table border=\"1\" class=\"dataframe\">\n",
       "  <thead>\n",
       "    <tr style=\"text-align: right;\">\n",
       "      <th></th>\n",
       "      <th>bds</th>\n",
       "      <th>ba</th>\n",
       "      <th>time on zillow</th>\n",
       "      <th>veiws</th>\n",
       "      <th>saves</th>\n",
       "      <th>Zillow</th>\n",
       "      <th>prediction_rate</th>\n",
       "      <th>sqft_num</th>\n",
       "    </tr>\n",
       "  </thead>\n",
       "  <tbody>\n",
       "    <tr>\n",
       "      <td>count</td>\n",
       "      <td>1601.000000</td>\n",
       "      <td>1463.000000</td>\n",
       "      <td>1601.000000</td>\n",
       "      <td>1601.000000</td>\n",
       "      <td>1601.000000</td>\n",
       "      <td>1.601000e+03</td>\n",
       "      <td>1570.000000</td>\n",
       "      <td>1601.000000</td>\n",
       "    </tr>\n",
       "    <tr>\n",
       "      <td>mean</td>\n",
       "      <td>3.251093</td>\n",
       "      <td>2.916951</td>\n",
       "      <td>0.002498</td>\n",
       "      <td>184.731418</td>\n",
       "      <td>50.459713</td>\n",
       "      <td>1.081722e+06</td>\n",
       "      <td>3.092229</td>\n",
       "      <td>1713.208620</td>\n",
       "    </tr>\n",
       "    <tr>\n",
       "      <td>std</td>\n",
       "      <td>1.789738</td>\n",
       "      <td>1.738488</td>\n",
       "      <td>0.049937</td>\n",
       "      <td>289.831326</td>\n",
       "      <td>64.684666</td>\n",
       "      <td>1.316220e+06</td>\n",
       "      <td>2.687014</td>\n",
       "      <td>1731.732748</td>\n",
       "    </tr>\n",
       "    <tr>\n",
       "      <td>min</td>\n",
       "      <td>1.000000</td>\n",
       "      <td>1.000000</td>\n",
       "      <td>0.000000</td>\n",
       "      <td>0.000000</td>\n",
       "      <td>0.000000</td>\n",
       "      <td>0.000000e+00</td>\n",
       "      <td>0.000000</td>\n",
       "      <td>0.000000</td>\n",
       "    </tr>\n",
       "    <tr>\n",
       "      <td>25%</td>\n",
       "      <td>2.000000</td>\n",
       "      <td>2.000000</td>\n",
       "      <td>0.000000</td>\n",
       "      <td>0.000000</td>\n",
       "      <td>11.000000</td>\n",
       "      <td>5.540360e+05</td>\n",
       "      <td>0.800000</td>\n",
       "      <td>860.000000</td>\n",
       "    </tr>\n",
       "    <tr>\n",
       "      <td>50%</td>\n",
       "      <td>3.000000</td>\n",
       "      <td>3.000000</td>\n",
       "      <td>0.000000</td>\n",
       "      <td>0.000000</td>\n",
       "      <td>30.000000</td>\n",
       "      <td>7.816680e+05</td>\n",
       "      <td>2.200000</td>\n",
       "      <td>1450.000000</td>\n",
       "    </tr>\n",
       "    <tr>\n",
       "      <td>75%</td>\n",
       "      <td>4.000000</td>\n",
       "      <td>3.000000</td>\n",
       "      <td>0.000000</td>\n",
       "      <td>328.000000</td>\n",
       "      <td>67.000000</td>\n",
       "      <td>1.132962e+06</td>\n",
       "      <td>4.700000</td>\n",
       "      <td>2137.000000</td>\n",
       "    </tr>\n",
       "    <tr>\n",
       "      <td>max</td>\n",
       "      <td>40.000000</td>\n",
       "      <td>40.000000</td>\n",
       "      <td>1.000000</td>\n",
       "      <td>997.000000</td>\n",
       "      <td>730.000000</td>\n",
       "      <td>1.770889e+07</td>\n",
       "      <td>12.500000</td>\n",
       "      <td>17400.000000</td>\n",
       "    </tr>\n",
       "  </tbody>\n",
       "</table>\n",
       "</div>"
      ],
      "text/plain": [
       "               bds           ba  time on zillow        veiws        saves  \\\n",
       "count  1601.000000  1463.000000     1601.000000  1601.000000  1601.000000   \n",
       "mean      3.251093     2.916951        0.002498   184.731418    50.459713   \n",
       "std       1.789738     1.738488        0.049937   289.831326    64.684666   \n",
       "min       1.000000     1.000000        0.000000     0.000000     0.000000   \n",
       "25%       2.000000     2.000000        0.000000     0.000000    11.000000   \n",
       "50%       3.000000     3.000000        0.000000     0.000000    30.000000   \n",
       "75%       4.000000     3.000000        0.000000   328.000000    67.000000   \n",
       "max      40.000000    40.000000        1.000000   997.000000   730.000000   \n",
       "\n",
       "             Zillow  prediction_rate      sqft_num  \n",
       "count  1.601000e+03      1570.000000   1601.000000  \n",
       "mean   1.081722e+06         3.092229   1713.208620  \n",
       "std    1.316220e+06         2.687014   1731.732748  \n",
       "min    0.000000e+00         0.000000      0.000000  \n",
       "25%    5.540360e+05         0.800000    860.000000  \n",
       "50%    7.816680e+05         2.200000   1450.000000  \n",
       "75%    1.132962e+06         4.700000   2137.000000  \n",
       "max    1.770889e+07        12.500000  17400.000000  "
      ]
     },
     "execution_count": 146,
     "metadata": {},
     "output_type": "execute_result"
    }
   ],
   "source": [
    "new_df.describe()"
   ]
  },
  {
   "cell_type": "code",
   "execution_count": 147,
   "metadata": {},
   "outputs": [],
   "source": [
    "data = new_df.copy()"
   ]
  },
  {
   "cell_type": "code",
   "execution_count": 148,
   "metadata": {},
   "outputs": [
    {
     "name": "stdout",
     "output_type": "stream",
     "text": [
      "<class 'pandas.core.frame.DataFrame'>\n",
      "Int64Index: 1601 entries, 0 to 1958\n",
      "Data columns (total 25 columns):\n",
      "title                  1601 non-null object\n",
      "price                  828 non-null object\n",
      "bds                    1601 non-null int64\n",
      "ba                     1463 non-null float64\n",
      "sqft                   1601 non-null object\n",
      "time on zillow         1601 non-null int64\n",
      "veiws                  1601 non-null int64\n",
      "saves                  1601 non-null int64\n",
      "agent                  1601 non-null object\n",
      "type                   1601 non-null object\n",
      "parking                1601 non-null object\n",
      "buit                   1589 non-null object\n",
      "HOA                    1601 non-null object\n",
      "Zillow                 1601 non-null int64\n",
      "city                   1601 non-null object\n",
      "zipcode                1601 non-null object\n",
      "area                   1601 non-null object\n",
      "prediction             1570 non-null object\n",
      "prediction_combined    1570 non-null object\n",
      "prediction_rate        1570 non-null float64\n",
      "school_list            1601 non-null object\n",
      "history_date           1601 non-null object\n",
      "history_status         1601 non-null object\n",
      "history_price          1601 non-null object\n",
      "sqft_num               1601 non-null float64\n",
      "dtypes: float64(3), int64(5), object(17)\n",
      "memory usage: 325.2+ KB\n"
     ]
    }
   ],
   "source": [
    "data.info()"
   ]
  },
  {
   "cell_type": "code",
   "execution_count": 149,
   "metadata": {},
   "outputs": [
    {
     "data": {
      "text/plain": [
       "<matplotlib.axes._subplots.AxesSubplot at 0x11dd33bd0>"
      ]
     },
     "execution_count": 149,
     "metadata": {},
     "output_type": "execute_result"
    },
    {
     "data": {
      "image/png": "[encoded data removed]",
      "text/plain": [
       "<Figure size 432x288 with 1 Axes>"
      ]
     },
     "metadata": {
      "needs_background": "light"
     },
     "output_type": "display_data"
    }
   ],
   "source": [
    "import matplotlib.pyplot as plt\n",
    "%matplotlib inline\n",
    "data.groupby('type').Zillow.mean().plot.bar()\n"
   ]
  },
  {
   "cell_type": "code",
   "execution_count": 164,
   "metadata": {},
   "outputs": [
    {
     "data": {
      "text/plain": [
       "city\n",
       "LA              6.604078e+05\n",
       "culver          1.356577e+06\n",
       "inglewood       7.512054e+05\n",
       "irvine          1.401144e+06\n",
       "santa monica    2.451762e+06\n",
       "Name: Zillow, dtype: float64"
      ]
     },
     "execution_count": 164,
     "metadata": {},
     "output_type": "execute_result"
    }
   ],
   "source": [
    "data.groupby(\"city\").Zillow.mean()"
   ]
  },
  {
   "cell_type": "code",
   "execution_count": 165,
   "metadata": {},
   "outputs": [
    {
     "data": {
      "text/plain": [
       "city\n",
       "LA              758\n",
       "culver           44\n",
       "inglewood       143\n",
       "irvine          518\n",
       "santa monica    138\n",
       "Name: Zillow, dtype: int64"
      ]
     },
     "execution_count": 165,
     "metadata": {},
     "output_type": "execute_result"
    }
   ],
   "source": [
    "data.groupby(\"city\").Zillow.count()"
   ]
  },
  {
   "cell_type": "code",
   "execution_count": 150,
   "metadata": {},
   "outputs": [
    {
     "data": {
      "text/plain": [
       "<matplotlib.axes._subplots.AxesSubplot at 0x11dd0bc10>"
      ]
     },
     "execution_count": 150,
     "metadata": {},
     "output_type": "execute_result"
    },
    {
     "data": {
      "image/png": "[encoded data removed]",
      "text/plain": [
       "<Figure size 432x288 with 1 Axes>"
      ]
     },
     "metadata": {
      "needs_background": "light"
     },
     "output_type": "display_data"
    }
   ],
   "source": [
    "data.groupby('type')[\"title\"].count().plot.barh()"
   ]
  },
  {
   "cell_type": "code",
   "execution_count": 151,
   "metadata": {},
   "outputs": [
    {
     "name": "stdout",
     "output_type": "stream",
     "text": [
      "Index(['92618 ', '92612 ', '90302 ', 'Woodland Hills ', '90402 ', 'Sylmar ',\n",
      "       '90301 ', '90405 ', 'Northwood ', 'Portola Springs '],\n",
      "      dtype='object')\n"
     ]
    }
   ],
   "source": [
    "top_10_list_area = (data.area.value_counts(ascending = False).index)[:10]\n",
    "print(top_10_list_area)"
   ]
  },
  {
   "cell_type": "code",
   "execution_count": 152,
   "metadata": {},
   "outputs": [],
   "source": [
    "# selecting rows based on condition \n",
    "top_10_df = data[data['area'].isin(top_10_list_area)] "
   ]
  },
  {
   "cell_type": "code",
   "execution_count": 153,
   "metadata": {},
   "outputs": [
    {
     "data": {
      "text/plain": [
       "<matplotlib.axes._subplots.AxesSubplot at 0x1202cdd10>"
      ]
     },
     "execution_count": 153,
     "metadata": {},
     "output_type": "execute_result"
    },
    {
     "data": {
      "image/png": "[encoded data removed]",
      "text/plain": [
       "<Figure size 432x288 with 1 Axes>"
      ]
     },
     "metadata": {
      "needs_background": "light"
     },
     "output_type": "display_data"
    }
   ],
   "source": [
    "top_10_df.groupby(\"area\")[\"title\"].count().plot.barh()"
   ]
  },
  {
   "cell_type": "code",
   "execution_count": 154,
   "metadata": {},
   "outputs": [
    {
     "data": {
      "text/plain": [
       "area              prediction_combined\n",
       "90301             increase               10.1\n",
       "90302             increase                2.6\n",
       "90402             increase                7.3\n",
       "90405             increase                4.7\n",
       "92612             decrease                1.6\n",
       "92618             decrease                0.8\n",
       "Northwood         increase                0.3\n",
       "Portola Springs   decrease                0.6\n",
       "Sylmar            increase                2.2\n",
       "Woodland Hills    increase                2.0\n",
       "Name: prediction_rate, dtype: float64"
      ]
     },
     "execution_count": 154,
     "metadata": {},
     "output_type": "execute_result"
    }
   ],
   "source": [
    "top_10_g_p = top_10_df.groupby([\"area\",\"prediction_combined\"]).prediction_rate.max()\n",
    "top_10_g_p"
   ]
  },
  {
   "cell_type": "code",
   "execution_count": 155,
   "metadata": {},
   "outputs": [
    {
     "data": {
      "text/plain": [
       "<matplotlib.axes._subplots.AxesSubplot at 0x11dd290d0>"
      ]
     },
     "execution_count": 155,
     "metadata": {},
     "output_type": "execute_result"
    },
    {
     "data": {
      "image/png": "[encoded data removed]",
      "text/plain": [
       "<Figure size 432x288 with 1 Axes>"
      ]
     },
     "metadata": {
      "needs_background": "light"
     },
     "output_type": "display_data"
    }
   ],
   "source": [
    "bottom_10_list_area = (data.area.value_counts(ascending = False).index)[-10:]\n",
    "bottom_10_df = data[data['area'].isin(bottom_10_list_area)]\n",
    "bottom_10_df.groupby(\"area\")[\"title\"].count().plot.barh()"
   ]
  },
  {
   "cell_type": "code",
   "execution_count": 156,
   "metadata": {},
   "outputs": [
    {
     "data": {
      "text/plain": [
       "area               prediction_combined\n",
       "Beverlywood        increase               9.8\n",
       "Leimert Park       increase               8.2\n",
       "Pico-Robertson     increase               6.3\n",
       "90077              increase               5.7\n",
       "Century City       increase               5.4\n",
       "Westlake           increase               5.1\n",
       "University Hills   increase               4.2\n",
       "Harbor Gateway     increase               2.0\n",
       "92614              decrease               0.9\n",
       "92782              increase               0.0\n",
       "Name: prediction_rate, dtype: float64"
      ]
     },
     "execution_count": 156,
     "metadata": {},
     "output_type": "execute_result"
    }
   ],
   "source": [
    "bottom_10_df.groupby([\"area\",\"prediction_combined\"]).prediction_rate.max().sort_values(ascending = False)"
   ]
  },
  {
   "cell_type": "code",
   "execution_count": 157,
   "metadata": {},
   "outputs": [
    {
     "data": {
      "text/plain": [
       "3.8507601351351437"
      ]
     },
     "execution_count": 157,
     "metadata": {},
     "output_type": "execute_result"
    }
   ],
   "source": [
    "increase_df = data[data[\"prediction_combined\"] == \"increase\"]\n",
    "avg_increase = increase_df[\"prediction_rate\"].mean()\n",
    "avg_increase"
   ]
  },
  {
   "cell_type": "code",
   "execution_count": 158,
   "metadata": {},
   "outputs": [
    {
     "data": {
      "text/plain": [
       "0.7655440414507783"
      ]
     },
     "execution_count": 158,
     "metadata": {},
     "output_type": "execute_result"
    }
   ],
   "source": [
    "decrease_df = data[data[\"prediction_combined\"] == \"decrease\"]\n",
    "avg_decrease = decrease_df[\"prediction_rate\"].mean()\n",
    "avg_decrease"
   ]
  },
  {
   "cell_type": "code",
   "execution_count": 159,
   "metadata": {},
   "outputs": [
    {
     "data": {
      "text/plain": [
       "array(['Woodbury ', '92618 ', 'Portola Springs ', 'Woodbridge ',\n",
       "       'Turtle Rock ', '92602 ', 'West Park ', 'University Park ',\n",
       "       'Oak Creek ', 'Quail Hill ', '92612 ', 'Turtle Ridge ',\n",
       "       'University Town Center ', 'Rancho San Joaquin ', 'Irvine ',\n",
       "       '92614 ', 'Downtown Los Angeles '], dtype=object)"
      ]
     },
     "execution_count": 159,
     "metadata": {},
     "output_type": "execute_result"
    }
   ],
   "source": [
    "decrease_df[\"area\"].unique()"
   ]
  },
  {
   "cell_type": "code",
   "execution_count": 160,
   "metadata": {},
   "outputs": [],
   "source": [
    "school_df = data[[\"title\", \"area\",\"Zillow\",\"school_list\"]]"
   ]
  },
  {
   "cell_type": "code",
   "execution_count": 161,
   "metadata": {},
   "outputs": [
    {
     "name": "stderr",
     "output_type": "stream",
     "text": [
      "/opt/anaconda3/lib/python3.7/site-packages/ipykernel_launcher.py:1: SettingWithCopyWarning: \n",
      "A value is trying to be set on a copy of a slice from a DataFrame.\n",
      "Try using .loc[row_indexer,col_indexer] = value instead\n",
      "\n",
      "See the caveats in the documentation: http://pandas.pydata.org/pandas-docs/stable/user_guide/indexing.html#returning-a-view-versus-a-copy\n",
      "  \"\"\"Entry point for launching an IPython kernel.\n",
      "/opt/anaconda3/lib/python3.7/site-packages/ipykernel_launcher.py:2: SettingWithCopyWarning: \n",
      "A value is trying to be set on a copy of a slice from a DataFrame.\n",
      "Try using .loc[row_indexer,col_indexer] = value instead\n",
      "\n",
      "See the caveats in the documentation: http://pandas.pydata.org/pandas-docs/stable/user_guide/indexing.html#returning-a-view-versus-a-copy\n",
      "  \n",
      "/opt/anaconda3/lib/python3.7/site-packages/ipykernel_launcher.py:3: SettingWithCopyWarning: \n",
      "A value is trying to be set on a copy of a slice from a DataFrame.\n",
      "Try using .loc[row_indexer,col_indexer] = value instead\n",
      "\n",
      "See the caveats in the documentation: http://pandas.pydata.org/pandas-docs/stable/user_guide/indexing.html#returning-a-view-versus-a-copy\n",
      "  This is separate from the ipykernel package so we can avoid doing imports until\n",
      "/opt/anaconda3/lib/python3.7/site-packages/ipykernel_launcher.py:4: SettingWithCopyWarning: \n",
      "A value is trying to be set on a copy of a slice from a DataFrame.\n",
      "Try using .loc[row_indexer,col_indexer] = value instead\n",
      "\n",
      "See the caveats in the documentation: http://pandas.pydata.org/pandas-docs/stable/user_guide/indexing.html#returning-a-view-versus-a-copy\n",
      "  after removing the cwd from sys.path.\n",
      "/opt/anaconda3/lib/python3.7/site-packages/ipykernel_launcher.py:5: SettingWithCopyWarning: \n",
      "A value is trying to be set on a copy of a slice from a DataFrame.\n",
      "Try using .loc[row_indexer,col_indexer] = value instead\n",
      "\n",
      "See the caveats in the documentation: http://pandas.pydata.org/pandas-docs/stable/user_guide/indexing.html#returning-a-view-versus-a-copy\n",
      "  \"\"\"\n",
      "/opt/anaconda3/lib/python3.7/site-packages/ipykernel_launcher.py:6: SettingWithCopyWarning: \n",
      "A value is trying to be set on a copy of a slice from a DataFrame.\n",
      "Try using .loc[row_indexer,col_indexer] = value instead\n",
      "\n",
      "See the caveats in the documentation: http://pandas.pydata.org/pandas-docs/stable/user_guide/indexing.html#returning-a-view-versus-a-copy\n",
      "  \n"
     ]
    }
   ],
   "source": [
    "school_df[\"first_school_grade\"] = school_df[\"school_list\"].str[0].str[0]\n",
    "school_df[\"first_school\"] = school_df[\"school_list\"].str[0].str[1]\n",
    "school_df[\"second_school_grade\"] = school_df[\"school_list\"].str[1].str[0]\n",
    "school_df[\"second_school\"] = school_df[\"school_list\"].str[1].str[1]\n",
    "school_df[\"third_school_grade\"] = school_df[\"school_list\"].str[2].str[0]\n",
    "school_df[\"third_school\"] = school_df[\"school_list\"].str[2].str[1]"
   ]
  },
  {
   "cell_type": "code",
   "execution_count": 162,
   "metadata": {},
   "outputs": [
    {
     "data": {
      "text/html": [
       "<div>\n",
       "<style scoped>\n",
       "    .dataframe tbody tr th:only-of-type {\n",
       "        vertical-align: middle;\n",
       "    }\n",
       "\n",
       "    .dataframe tbody tr th {\n",
       "        vertical-align: top;\n",
       "    }\n",
       "\n",
       "    .dataframe thead th {\n",
       "        text-align: right;\n",
       "    }\n",
       "</style>\n",
       "<table border=\"1\" class=\"dataframe\">\n",
       "  <thead>\n",
       "    <tr style=\"text-align: right;\">\n",
       "      <th></th>\n",
       "      <th>first_school_grade</th>\n",
       "      <th>Zillow</th>\n",
       "    </tr>\n",
       "    <tr>\n",
       "      <th>first_school</th>\n",
       "      <th></th>\n",
       "      <th></th>\n",
       "    </tr>\n",
       "  </thead>\n",
       "  <tbody>\n",
       "    <tr>\n",
       "      <td>Encino Charter Elementary School Grades</td>\n",
       "      <td>9</td>\n",
       "      <td>2.979290e+05</td>\n",
       "    </tr>\n",
       "    <tr>\n",
       "      <td>Portola Springs Elementary Grades</td>\n",
       "      <td>9</td>\n",
       "      <td>8.865441e+05</td>\n",
       "    </tr>\n",
       "    <tr>\n",
       "      <td>Grant Elementary School Grades</td>\n",
       "      <td>9</td>\n",
       "      <td>2.058493e+06</td>\n",
       "    </tr>\n",
       "    <tr>\n",
       "      <td>Bonita Canyon Elementary School Grades</td>\n",
       "      <td>9</td>\n",
       "      <td>4.813574e+06</td>\n",
       "    </tr>\n",
       "    <tr>\n",
       "      <td>Farragut Elementary School Grades</td>\n",
       "      <td>9</td>\n",
       "      <td>1.802843e+06</td>\n",
       "    </tr>\n",
       "    <tr>\n",
       "      <td>...</td>\n",
       "      <td>...</td>\n",
       "      <td>...</td>\n",
       "    </tr>\n",
       "    <tr>\n",
       "      <td>Lane (Warren) Elementary School Grades</td>\n",
       "      <td>1</td>\n",
       "      <td>6.574965e+05</td>\n",
       "    </tr>\n",
       "    <tr>\n",
       "      <td>Manhattan Place Elementary School Grades</td>\n",
       "      <td>1</td>\n",
       "      <td>6.249040e+05</td>\n",
       "    </tr>\n",
       "    <tr>\n",
       "      <td>Yes Academy Grades</td>\n",
       "      <td>1</td>\n",
       "      <td>5.290040e+05</td>\n",
       "    </tr>\n",
       "    <tr>\n",
       "      <td>e couldn't find  near this home.</td>\n",
       "      <td>We couldn't find  near this home</td>\n",
       "      <td>7.411115e+05</td>\n",
       "    </tr>\n",
       "    <tr>\n",
       "      <td></td>\n",
       "      <td></td>\n",
       "      <td>9.825540e+05</td>\n",
       "    </tr>\n",
       "  </tbody>\n",
       "</table>\n",
       "<p>347 rows × 2 columns</p>\n",
       "</div>"
      ],
      "text/plain": [
       "                                                          first_school_grade  \\\n",
       "first_school                                                                   \n",
       " Encino Charter Elementary School Grades                                   9   \n",
       " Portola Springs Elementary Grades                                         9   \n",
       " Grant Elementary School Grades                                            9   \n",
       " Bonita Canyon Elementary School Grades                                    9   \n",
       " Farragut Elementary School Grades                                         9   \n",
       "...                                                                      ...   \n",
       " Lane (Warren) Elementary School Grades                                    1   \n",
       " Manhattan Place Elementary School Grades                                  1   \n",
       " Yes Academy Grades                                                        1   \n",
       "e couldn't find  near this home.            We couldn't find  near this home   \n",
       "                                                                               \n",
       "\n",
       "                                                 Zillow  \n",
       "first_school                                             \n",
       " Encino Charter Elementary School Grades   2.979290e+05  \n",
       " Portola Springs Elementary Grades         8.865441e+05  \n",
       " Grant Elementary School Grades            2.058493e+06  \n",
       " Bonita Canyon Elementary School Grades    4.813574e+06  \n",
       " Farragut Elementary School Grades         1.802843e+06  \n",
       "...                                                 ...  \n",
       " Lane (Warren) Elementary School Grades    6.574965e+05  \n",
       " Manhattan Place Elementary School Grades  6.249040e+05  \n",
       " Yes Academy Grades                        5.290040e+05  \n",
       "e couldn't find  near this home.           7.411115e+05  \n",
       "                                           9.825540e+05  \n",
       "\n",
       "[347 rows x 2 columns]"
      ]
     },
     "execution_count": 162,
     "metadata": {},
     "output_type": "execute_result"
    }
   ],
   "source": [
    "school_df.groupby(\"first_school\").agg({'first_school_grade':'max', 'Zillow':'mean'}).sort_values('first_school_grade', ascending = False)"
   ]
  },
  {
   "cell_type": "code",
   "execution_count": 163,
   "metadata": {},
   "outputs": [
    {
     "data": {
      "text/plain": [
       "8                                    355\n",
       "9                                    237\n",
       "3                                    190\n",
       "4                                    188\n",
       "7                                    132\n",
       "2                                    121\n",
       "5                                    105\n",
       "10                                    95\n",
       "6                                     86\n",
       "1                                     56\n",
       "                                      30\n",
       " We couldn't find  near this home      6\n",
       "Name: first_school_grade, dtype: int64"
      ]
     },
     "execution_count": 163,
     "metadata": {},
     "output_type": "execute_result"
    }
   ],
   "source": [
    "school_df[\"first_school_grade\"].value_counts()"
   ]
  },
  {
   "cell_type": "code",
   "execution_count": null,
   "metadata": {},
   "outputs": [],
   "source": []
  }
 ],
 "metadata": {
  "kernelspec": {
   "display_name": "Python 3",
   "language": "python",
   "name": "python3"
  },
  "language_info": {
   "codemirror_mode": {
    "name": "ipython",
    "version": 3
   },
   "file_extension": ".py",
   "mimetype": "text/x-python",
   "name": "python",
   "nbconvert_exporter": "python",
   "pygments_lexer": "ipython3",
   "version": "3.7.4"
  }
 },
 "nbformat": 4,
 "nbformat_minor": 2
}
