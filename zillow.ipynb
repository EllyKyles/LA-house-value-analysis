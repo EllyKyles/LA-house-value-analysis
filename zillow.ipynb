{
 "cells": [
  {
   "cell_type": "code",
   "execution_count": 296,
   "metadata": {},
   "outputs": [],
   "source": [
    "import pandas as pd\n",
    "import re\n",
    "import datetime\n",
    "\n",
    "orign_df = pd.read_csv('zillow.csv')"
   ]
  },
  {
   "cell_type": "code",
   "execution_count": 297,
   "metadata": {
    "scrolled": true
   },
   "outputs": [
    {
     "data": {
      "text/html": [
       "<div>\n",
       "<style scoped>\n",
       "    .dataframe tbody tr th:only-of-type {\n",
       "        vertical-align: middle;\n",
       "    }\n",
       "\n",
       "    .dataframe tbody tr th {\n",
       "        vertical-align: top;\n",
       "    }\n",
       "\n",
       "    .dataframe thead th {\n",
       "        text-align: right;\n",
       "    }\n",
       "</style>\n",
       "<table border=\"1\" class=\"dataframe\">\n",
       "  <thead>\n",
       "    <tr style=\"text-align: right;\">\n",
       "      <th></th>\n",
       "      <th>title</th>\n",
       "      <th>bds</th>\n",
       "      <th>ba</th>\n",
       "      <th>sqft</th>\n",
       "      <th>time on zillow</th>\n",
       "      <th>veiws</th>\n",
       "      <th>saves</th>\n",
       "      <th>agent</th>\n",
       "      <th>type</th>\n",
       "      <th>parking</th>\n",
       "      <th>buit</th>\n",
       "      <th>lot</th>\n",
       "      <th>history</th>\n",
       "      <th>HOA</th>\n",
       "      <th>schools</th>\n",
       "      <th>neighborhood_home</th>\n",
       "      <th>zillow_prediction</th>\n",
       "      <th>Zillow</th>\n",
       "    </tr>\n",
       "  </thead>\n",
       "  <tbody>\n",
       "    <tr>\n",
       "      <td>0</td>\n",
       "      <td>436 W 75th St, Los Angeles, CA 90003</td>\n",
       "      <td>3 bds</td>\n",
       "      <td>2 ba</td>\n",
       "      <td>1,200 sqft</td>\n",
       "      <td>101 days</td>\n",
       "      <td>1,708</td>\n",
       "      <td>73</td>\n",
       "      <td>Emmanuel Ollawa  Prime West Management &amp; Inv.</td>\n",
       "      <td>Single Family</td>\n",
       "      <td>1 space</td>\n",
       "      <td>1922</td>\n",
       "      <td>1,837 sqft</td>\n",
       "      <td>DATE\\tEVENT\\tPRICE 11/11/2019\\tPrice change\\t$...</td>\n",
       "      <td>$0/mo</td>\n",
       "      <td>2/10 Sixty-Eighth Street Elementary School Gra...</td>\n",
       "      <td>South Los Angeles home values have risen 4.6 %...</td>\n",
       "      <td>Zillow predicts the home values in South Los A...</td>\n",
       "      <td>400033</td>\n",
       "    </tr>\n",
       "    <tr>\n",
       "      <td>1</td>\n",
       "      <td>8435 Columbus Ave UNIT 10, Los Angeles, CA 91343</td>\n",
       "      <td>3 bds</td>\n",
       "      <td>3 ba</td>\n",
       "      <td>1,250 sqft</td>\n",
       "      <td>37 days</td>\n",
       "      <td>4,665</td>\n",
       "      <td>180</td>\n",
       "      <td>Rene Fuentes  Coldwell Banker Quality Properties</td>\n",
       "      <td>Townhouse</td>\n",
       "      <td>Attached Garage</td>\n",
       "      <td>1981</td>\n",
       "      <td>3,000 sqft</td>\n",
       "      <td>DATE\\tEVENT\\tPRICE 12/1/2019\\tListed for sale\\...</td>\n",
       "      <td>$235/mo</td>\n",
       "      <td>4/10 Noble Avenue Elementary School Grades:K-5...</td>\n",
       "      <td>North Hills home values have risen 4.6 % over ...</td>\n",
       "      <td>Zillow predicts the home values in North Hills...</td>\n",
       "      <td>375355</td>\n",
       "    </tr>\n",
       "    <tr>\n",
       "      <td>2</td>\n",
       "      <td>13901 Olive View Ln UNIT 53, Los Angeles, CA 9...</td>\n",
       "      <td>3 bds</td>\n",
       "      <td>3 ba</td>\n",
       "      <td>1,208 sqft</td>\n",
       "      <td>103 days</td>\n",
       "      <td>1,301</td>\n",
       "      <td>39</td>\n",
       "      <td>Jennifer Monson  Monson Real Estate &amp; Management</td>\n",
       "      <td>Townhouse</td>\n",
       "      <td>No Data</td>\n",
       "      <td>1986</td>\n",
       "      <td>3.32 acres</td>\n",
       "      <td>DATE\\tEVENT\\tPRICE 1/6/2020\\tPrice change\\t$38...</td>\n",
       "      <td>$290/mo</td>\n",
       "      <td>6/10 Sylmar Leadership Academy Grades:K-8 Dist...</td>\n",
       "      <td>Sylmar home values have risen 4.6 % over the p...</td>\n",
       "      <td>Zillow predicts the home values in Sylmar will...</td>\n",
       "      <td>385002</td>\n",
       "    </tr>\n",
       "    <tr>\n",
       "      <td>3</td>\n",
       "      <td>7115 Etiwanda Ave UNIT 13, Los Angeles, CA 91335</td>\n",
       "      <td>3 bds</td>\n",
       "      <td>3 ba</td>\n",
       "      <td>1,297 sqft</td>\n",
       "      <td>94 days</td>\n",
       "      <td>664</td>\n",
       "      <td>17</td>\n",
       "      <td>Karen Komenkul  Rodeo Realty</td>\n",
       "      <td>Townhouse</td>\n",
       "      <td>Attached Garage</td>\n",
       "      <td>1981</td>\n",
       "      <td>0.56 acres</td>\n",
       "      <td>DATE\\tEVENT\\tPRICE 10/6/2019\\tListed for sale\\...</td>\n",
       "      <td>$370/mo</td>\n",
       "      <td>4/10 Garden Grove Elementary School Grades:K-5...</td>\n",
       "      <td>Reseda home values have risen 4.6 % over the p...</td>\n",
       "      <td>Zillow predicts the home values in Reseda will...</td>\n",
       "      <td>400000</td>\n",
       "    </tr>\n",
       "    <tr>\n",
       "      <td>4</td>\n",
       "      <td>708 E 76th Pl, Los Angeles, CA 90001</td>\n",
       "      <td>2 bds</td>\n",
       "      <td>2 ba</td>\n",
       "      <td>1,227 sqft</td>\n",
       "      <td>64 days</td>\n",
       "      <td>349</td>\n",
       "      <td>12</td>\n",
       "      <td></td>\n",
       "      <td>Single Family</td>\n",
       "      <td>Attached Garage</td>\n",
       "      <td>1923</td>\n",
       "      <td>5,227 sqft</td>\n",
       "      <td></td>\n",
       "      <td></td>\n",
       "      <td>3/10 Mckinley Avenue Elementary School Grades:...</td>\n",
       "      <td>Southeast Los Angeles home values have risen 4...</td>\n",
       "      <td>Zillow predicts the home values in Southeast L...</td>\n",
       "      <td></td>\n",
       "    </tr>\n",
       "  </tbody>\n",
       "</table>\n",
       "</div>"
      ],
      "text/plain": [
       "                                               title    bds    ba        sqft  \\\n",
       "0               436 W 75th St, Los Angeles, CA 90003  3 bds  2 ba  1,200 sqft   \n",
       "1   8435 Columbus Ave UNIT 10, Los Angeles, CA 91343  3 bds  3 ba  1,250 sqft   \n",
       "2  13901 Olive View Ln UNIT 53, Los Angeles, CA 9...  3 bds  3 ba  1,208 sqft   \n",
       "3   7115 Etiwanda Ave UNIT 13, Los Angeles, CA 91335  3 bds  3 ba  1,297 sqft   \n",
       "4               708 E 76th Pl, Los Angeles, CA 90001  2 bds  2 ba  1,227 sqft   \n",
       "\n",
       "  time on zillow  veiws saves  \\\n",
       "0       101 days  1,708    73   \n",
       "1        37 days  4,665   180   \n",
       "2       103 days  1,301    39   \n",
       "3        94 days    664    17   \n",
       "4        64 days    349    12   \n",
       "\n",
       "                                              agent           type  \\\n",
       "0     Emmanuel Ollawa  Prime West Management & Inv.  Single Family   \n",
       "1  Rene Fuentes  Coldwell Banker Quality Properties      Townhouse   \n",
       "2  Jennifer Monson  Monson Real Estate & Management      Townhouse   \n",
       "3                      Karen Komenkul  Rodeo Realty      Townhouse   \n",
       "4                                                    Single Family   \n",
       "\n",
       "           parking  buit         lot  \\\n",
       "0          1 space  1922  1,837 sqft   \n",
       "1  Attached Garage  1981  3,000 sqft   \n",
       "2          No Data  1986  3.32 acres   \n",
       "3  Attached Garage  1981  0.56 acres   \n",
       "4  Attached Garage  1923  5,227 sqft   \n",
       "\n",
       "                                             history      HOA  \\\n",
       "0  DATE\\tEVENT\\tPRICE 11/11/2019\\tPrice change\\t$...    $0/mo   \n",
       "1  DATE\\tEVENT\\tPRICE 12/1/2019\\tListed for sale\\...  $235/mo   \n",
       "2  DATE\\tEVENT\\tPRICE 1/6/2020\\tPrice change\\t$38...  $290/mo   \n",
       "3  DATE\\tEVENT\\tPRICE 10/6/2019\\tListed for sale\\...  $370/mo   \n",
       "4                                                               \n",
       "\n",
       "                                             schools  \\\n",
       "0  2/10 Sixty-Eighth Street Elementary School Gra...   \n",
       "1  4/10 Noble Avenue Elementary School Grades:K-5...   \n",
       "2  6/10 Sylmar Leadership Academy Grades:K-8 Dist...   \n",
       "3  4/10 Garden Grove Elementary School Grades:K-5...   \n",
       "4  3/10 Mckinley Avenue Elementary School Grades:...   \n",
       "\n",
       "                                   neighborhood_home  \\\n",
       "0  South Los Angeles home values have risen 4.6 %...   \n",
       "1  North Hills home values have risen 4.6 % over ...   \n",
       "2  Sylmar home values have risen 4.6 % over the p...   \n",
       "3  Reseda home values have risen 4.6 % over the p...   \n",
       "4  Southeast Los Angeles home values have risen 4...   \n",
       "\n",
       "                                   zillow_prediction  Zillow  \n",
       "0  Zillow predicts the home values in South Los A...  400033  \n",
       "1  Zillow predicts the home values in North Hills...  375355  \n",
       "2  Zillow predicts the home values in Sylmar will...  385002  \n",
       "3  Zillow predicts the home values in Reseda will...  400000  \n",
       "4  Zillow predicts the home values in Southeast L...          "
      ]
     },
     "execution_count": 297,
     "metadata": {},
     "output_type": "execute_result"
    }
   ],
   "source": [
    "orign_df.head(5)"
   ]
  },
  {
   "cell_type": "code",
   "execution_count": 298,
   "metadata": {},
   "outputs": [
    {
     "data": {
      "text/plain": [
       "'DATE\\tEVENT\\tPRICE 11/11/2019\\tPrice change\\t$399,950(-8.1%)\\t 9/29/2019\\tListed for sale\\t$435,000(+103.3%)\\t 10/25/2017\\tSold\\t$214,000(-34.2%)\\t 9/8/2017\\tPending sale\\t$325,000\\t 7/1/2017\\tListed for sale\\t$325,000(+225.3%)\\t 4/6/2011\\tSold\\t$99,905\\t 3/11/2011\\tSold\\t$99,905\\t'"
      ]
     },
     "execution_count": 298,
     "metadata": {},
     "output_type": "execute_result"
    }
   ],
   "source": [
    "orign_df[\"history\"][0]"
   ]
  },
  {
   "cell_type": "code",
   "execution_count": 299,
   "metadata": {},
   "outputs": [],
   "source": [
    "df = orign_df.copy()"
   ]
  },
  {
   "cell_type": "code",
   "execution_count": 300,
   "metadata": {},
   "outputs": [],
   "source": [
    "df['zipcode'] = df['title'].str[-5:]"
   ]
  },
  {
   "cell_type": "code",
   "execution_count": 301,
   "metadata": {},
   "outputs": [
    {
     "data": {
      "text/plain": [
       "Woodland Hills           44\n",
       "Sylmar                   39\n",
       "San Pedro                33\n",
       "Sherman Oaks             26\n",
       "Downtown Los Angeles     25\n",
       "                         ..\n",
       "University Hills          1\n",
       "Pico-Robertson            1\n",
       "Bel Air                   1\n",
       "Harbor Gateway            1\n",
       "Beverlywood               1\n",
       "Name: area, Length: 87, dtype: int64"
      ]
     },
     "execution_count": 301,
     "metadata": {},
     "output_type": "execute_result"
    }
   ],
   "source": [
    "# to create neighbor are column\n",
    "def get_area(row):\n",
    "    i = row.find(\"home\")\n",
    "    return row[:i]\n",
    "df[\"area\"]= df['neighborhood_home'].apply(get_area)\n",
    "\n",
    "df[\"area\"].value_counts()"
   ]
  },
  {
   "cell_type": "code",
   "execution_count": 302,
   "metadata": {},
   "outputs": [
    {
     "data": {
      "text/plain": [
       "increase    394\n",
       "rise        375\n",
       "fall         15\n",
       "decrease     10\n",
       "Name: prediction, dtype: int64"
      ]
     },
     "execution_count": 302,
     "metadata": {},
     "output_type": "execute_result"
    }
   ],
   "source": [
    "df[\"prediction\"] = df[\"zillow_prediction\"].str.split().str[-6]\n",
    "df[\"prediction\"].value_counts()"
   ]
  },
  {
   "cell_type": "code",
   "execution_count": 338,
   "metadata": {},
   "outputs": [
    {
     "data": {
      "text/plain": [
       "2.1%     58\n",
       "2.2%     57\n",
       "2%       45\n",
       "1.4%     41\n",
       "7%       35\n",
       "1.7%     28\n",
       "2.3%     28\n",
       "0.6%     26\n",
       "0.2%     25\n",
       "4.2%     24\n",
       "3%       24\n",
       "4.4%     24\n",
       "8.3%     22\n",
       "3.5%     20\n",
       "4%       18\n",
       "5.3%     18\n",
       "5.9%     16\n",
       "1.5%     16\n",
       "3.4%     15\n",
       "9.3%     15\n",
       "6.8%     14\n",
       "2.4%     13\n",
       "5.8%     13\n",
       "6.2%     13\n",
       "2.9%     13\n",
       "5.7%     13\n",
       "3.6%     12\n",
       "8.4%     11\n",
       "1.9%     11\n",
       "1.3%     10\n",
       "7.5%     10\n",
       "4.5%      9\n",
       "7.1%      8\n",
       "1.8%      8\n",
       "12.5%     7\n",
       "4.6%      7\n",
       "0.1%      7\n",
       "1.6%      6\n",
       "6.6%      6\n",
       "4.9%      5\n",
       "8.9%      5\n",
       "5.1%      5\n",
       "6.1%      4\n",
       "0.8%      4\n",
       "5.5%      4\n",
       "3.1%      3\n",
       "8%        3\n",
       "1.2%      3\n",
       "8.2%      2\n",
       "3.3%      2\n",
       "8.5%      2\n",
       "6%        2\n",
       "5.4%      2\n",
       "6.3%      1\n",
       "9.8%      1\n",
       "Name: prediction_rate, dtype: int64"
      ]
     },
     "execution_count": 338,
     "metadata": {},
     "output_type": "execute_result"
    }
   ],
   "source": [
    "df[\"prediction_rate\"] = df[\"zillow_prediction\"].str.split().str[-5]\n",
    "df.drop(\"zillow_prediction\", axis = 1, inplace = True)\n",
    "df[\"prediction_rate\"].value_counts()\n"
   ]
  },
  {
   "cell_type": "code",
   "execution_count": 339,
   "metadata": {},
   "outputs": [],
   "source": [
    "def combine_prediction(row):\n",
    "    if row == 'rise':\n",
    "        return \"increase\"\n",
    "    elif row == \"fall\":\n",
    "        return \"decrease\"\n",
    "    else:\n",
    "        return row"
   ]
  },
  {
   "cell_type": "code",
   "execution_count": 340,
   "metadata": {},
   "outputs": [
    {
     "data": {
      "text/plain": [
       "increase    769\n",
       "decrease     25\n",
       "Name: prediction_combined, dtype: int64"
      ]
     },
     "execution_count": 340,
     "metadata": {},
     "output_type": "execute_result"
    }
   ],
   "source": [
    "df[\"prediction_combined\"] = df[\"prediction\"].apply(combine_prediction) \n",
    "df[\"prediction_combined\"].value_counts()"
   ]
  },
  {
   "cell_type": "code",
   "execution_count": 341,
   "metadata": {},
   "outputs": [],
   "source": [
    "def school_list(row):\n",
    "    school_list =[]\n",
    "    for i, v in enumerate(row.split(':')[::2][:3]):\n",
    "        ind = v.find('/')\n",
    "        if i == 0:\n",
    "            result = [v[:ind], v[ind+3:]]\n",
    "        else:\n",
    "            if len(v) > 6:\n",
    "                result = [v[ind-1], v[ind+3:]]\n",
    "            else:\n",
    "                result = 'None'\n",
    "        school_list.append(result)\n",
    "    return school_list"
   ]
  },
  {
   "cell_type": "code",
   "execution_count": 342,
   "metadata": {},
   "outputs": [
    {
     "data": {
      "text/plain": [
       "0      [[2,  Sixty-Eighth Street Elementary School Gr...\n",
       "1      [[4,  Noble Avenue Elementary School Grades], ...\n",
       "2      [[6,  Sylmar Leadership Academy Grades], [4,  ...\n",
       "3      [[4,  Garden Grove Elementary School Grades], ...\n",
       "4      [[3,  Mckinley Avenue Elementary School Grades...\n",
       "                             ...                        \n",
       "800    [[3,  Tenth Street Elementary School Grades], ...\n",
       "801    [[8,  Clifford Street Elementary School Grades...\n",
       "802    [[8,  Lockhurst Drive Charter Elementary Grade...\n",
       "803    [[2,  Bushnell Way Elementary School Grades], ...\n",
       "804    [[2,  Alta Loma Elementary School Grades], [2,...\n",
       "Name: school_list, Length: 805, dtype: object"
      ]
     },
     "execution_count": 342,
     "metadata": {},
     "output_type": "execute_result"
    }
   ],
   "source": [
    "df[\"school_list\"] = df[\"schools\"].apply(school_list) \n",
    "df[\"school_list\"]"
   ]
  },
  {
   "cell_type": "code",
   "execution_count": 343,
   "metadata": {},
   "outputs": [],
   "source": [
    "def history_convert(row):\n",
    "    clean_row = row[17:-1].split('\\t')\n",
    "    history_status = [v.strip() for v in clean_row[1::3]]\n",
    "    history_date = []\n",
    "    for v in clean_row[::3]:\n",
    "        if v != '':\n",
    "            result = datetime.datetime.strptime(v.strip(), '%m/%d/%Y')\n",
    "            history_date.append(result.date())\n",
    "        \n",
    "    history_price = []\n",
    "    for v in clean_row[2::3]:\n",
    "        ind = v.find(\"(\")\n",
    "        if ind > 0:\n",
    "            result = v[:ind].replace(\"$\", \"\").replace(\",\",\"\")\n",
    "        else:\n",
    "            result = v.replace(\"$\",\"\").replace(\",\",\"\")\n",
    "        history_price.append(float(result))\n",
    "    \n",
    "    return (history_date, history_status, history_price)"
   ]
  },
  {
   "cell_type": "code",
   "execution_count": 344,
   "metadata": {},
   "outputs": [],
   "source": [
    "df[\"history_date\"] = df[\"history\"].apply(lambda row:history_convert(row)[0])\n",
    "df[\"history_status\"] = df[\"history\"].apply(lambda row:history_convert(row)[1])\n",
    "df[\"history_price\"]= df[\"history\"].apply(lambda row:history_convert(row)[2])\n",
    "\n"
   ]
  },
  {
   "cell_type": "code",
   "execution_count": 345,
   "metadata": {},
   "outputs": [
    {
     "data": {
      "text/plain": [
       "0      [2019-11-11, 2019-09-29, 2017-10-25, 2017-09-0...\n",
       "1                   [2019-12-01, 1995-02-15, 1994-07-21]\n",
       "2                               [2020-01-06, 2019-09-26]\n",
       "3      [2019-10-06, 2010-07-28, 2003-03-12, 2001-07-0...\n",
       "4                                                     []\n",
       "                             ...                        \n",
       "800    [2019-12-10, 2019-11-23, 2019-09-26, 2014-04-0...\n",
       "801                 [2019-12-18, 2019-12-05, 2016-01-28]\n",
       "802    [2019-11-19, 2019-10-30, 2019-03-29, 2018-11-2...\n",
       "803    [2019-10-16, 2019-10-10, 2019-09-08, 2018-11-1...\n",
       "804                                                   []\n",
       "Name: history_date, Length: 805, dtype: object"
      ]
     },
     "execution_count": 345,
     "metadata": {},
     "output_type": "execute_result"
    }
   ],
   "source": [
    "df[\"history_date\"] "
   ]
  },
  {
   "cell_type": "code",
   "execution_count": 346,
   "metadata": {},
   "outputs": [
    {
     "data": {
      "text/plain": [
       "0      [Price change, Listed for sale, Sold, Pending ...\n",
       "1                          [Listed for sale, Sold, Sold]\n",
       "2                        [Price change, Listed for sale]\n",
       "3      [Listed for sale, Sold, Sold, Sold, Sold, Sold...\n",
       "4                                                     []\n",
       "                             ...                        \n",
       "800    [Price change, Price change, Listed for sale, ...\n",
       "801                [Price change, Listed for sale, Sold]\n",
       "802    [Price change, Listed for sale, Sold, Sold, Ba...\n",
       "803    [Back on market, Pending sale, Listed for sale...\n",
       "804                                                   []\n",
       "Name: history_status, Length: 805, dtype: object"
      ]
     },
     "execution_count": 346,
     "metadata": {},
     "output_type": "execute_result"
    }
   ],
   "source": [
    "df[\"history_status\"]"
   ]
  },
  {
   "cell_type": "code",
   "execution_count": 347,
   "metadata": {},
   "outputs": [
    {
     "data": {
      "text/plain": [
       "0      [399950.0, 435000.0, 214000.0, 325000.0, 32500...\n",
       "1                           [370000.0, 80000.0, 66745.0]\n",
       "2                                   [385000.0, 400000.0]\n",
       "3      [399999.0, 210000.0, 188000.0, 123000.0, 75000...\n",
       "4                                                     []\n",
       "                             ...                        \n",
       "800    [449000.0, 459000.0, 469000.0, 1800.0, 1800.0,...\n",
       "801                       [849500.0, 895000.0, 729000.0]\n",
       "802    [1249999.0, 1277777.0, 733500.0, 688000.0, 747...\n",
       "803    [499000.0, 499000.0, 499000.0, 488000.0, 48800...\n",
       "804                                                   []\n",
       "Name: history_price, Length: 805, dtype: object"
      ]
     },
     "execution_count": 347,
     "metadata": {},
     "output_type": "execute_result"
    }
   ],
   "source": [
    "df[\"history_price\"]"
   ]
  },
  {
   "cell_type": "code",
   "execution_count": 348,
   "metadata": {},
   "outputs": [],
   "source": [
    "new_df = df.copy()"
   ]
  },
  {
   "cell_type": "code",
   "execution_count": 349,
   "metadata": {},
   "outputs": [
    {
     "name": "stdout",
     "output_type": "stream",
     "text": [
      "(805, 23)\n"
     ]
    },
    {
     "data": {
      "text/html": [
       "<div>\n",
       "<style scoped>\n",
       "    .dataframe tbody tr th:only-of-type {\n",
       "        vertical-align: middle;\n",
       "    }\n",
       "\n",
       "    .dataframe tbody tr th {\n",
       "        vertical-align: top;\n",
       "    }\n",
       "\n",
       "    .dataframe thead th {\n",
       "        text-align: right;\n",
       "    }\n",
       "</style>\n",
       "<table border=\"1\" class=\"dataframe\">\n",
       "  <thead>\n",
       "    <tr style=\"text-align: right;\">\n",
       "      <th></th>\n",
       "      <th>title</th>\n",
       "      <th>bds</th>\n",
       "      <th>ba</th>\n",
       "      <th>sqft</th>\n",
       "      <th>time on zillow</th>\n",
       "      <th>veiws</th>\n",
       "      <th>saves</th>\n",
       "      <th>agent</th>\n",
       "      <th>type</th>\n",
       "      <th>parking</th>\n",
       "      <th>...</th>\n",
       "      <th>Zillow</th>\n",
       "      <th>zipcode</th>\n",
       "      <th>area</th>\n",
       "      <th>prediction</th>\n",
       "      <th>prediction_combined</th>\n",
       "      <th>school_list</th>\n",
       "      <th>history_date</th>\n",
       "      <th>history_status</th>\n",
       "      <th>history_price</th>\n",
       "      <th>prediction_rate</th>\n",
       "    </tr>\n",
       "  </thead>\n",
       "  <tbody>\n",
       "    <tr>\n",
       "      <td>0</td>\n",
       "      <td>436 W 75th St, Los Angeles, CA 90003</td>\n",
       "      <td>3 bds</td>\n",
       "      <td>2 ba</td>\n",
       "      <td>1,200 sqft</td>\n",
       "      <td>101 days</td>\n",
       "      <td>1,708</td>\n",
       "      <td>73</td>\n",
       "      <td>Emmanuel Ollawa  Prime West Management &amp; Inv.</td>\n",
       "      <td>Single Family</td>\n",
       "      <td>1 space</td>\n",
       "      <td>...</td>\n",
       "      <td>400033</td>\n",
       "      <td>90003</td>\n",
       "      <td>South Los Angeles</td>\n",
       "      <td>increase</td>\n",
       "      <td>increase</td>\n",
       "      <td>[[2,  Sixty-Eighth Street Elementary School Gr...</td>\n",
       "      <td>[2019-11-11, 2019-09-29, 2017-10-25, 2017-09-0...</td>\n",
       "      <td>[Price change, Listed for sale, Sold, Pending ...</td>\n",
       "      <td>[399950.0, 435000.0, 214000.0, 325000.0, 32500...</td>\n",
       "      <td>4.4%</td>\n",
       "    </tr>\n",
       "    <tr>\n",
       "      <td>1</td>\n",
       "      <td>8435 Columbus Ave UNIT 10, Los Angeles, CA 91343</td>\n",
       "      <td>3 bds</td>\n",
       "      <td>3 ba</td>\n",
       "      <td>1,250 sqft</td>\n",
       "      <td>37 days</td>\n",
       "      <td>4,665</td>\n",
       "      <td>180</td>\n",
       "      <td>Rene Fuentes  Coldwell Banker Quality Properties</td>\n",
       "      <td>Townhouse</td>\n",
       "      <td>Attached Garage</td>\n",
       "      <td>...</td>\n",
       "      <td>375355</td>\n",
       "      <td>91343</td>\n",
       "      <td>North Hills</td>\n",
       "      <td>increase</td>\n",
       "      <td>increase</td>\n",
       "      <td>[[4,  Noble Avenue Elementary School Grades], ...</td>\n",
       "      <td>[2019-12-01, 1995-02-15, 1994-07-21]</td>\n",
       "      <td>[Listed for sale, Sold, Sold]</td>\n",
       "      <td>[370000.0, 80000.0, 66745.0]</td>\n",
       "      <td>2.3%</td>\n",
       "    </tr>\n",
       "    <tr>\n",
       "      <td>2</td>\n",
       "      <td>13901 Olive View Ln UNIT 53, Los Angeles, CA 9...</td>\n",
       "      <td>3 bds</td>\n",
       "      <td>3 ba</td>\n",
       "      <td>1,208 sqft</td>\n",
       "      <td>103 days</td>\n",
       "      <td>1,301</td>\n",
       "      <td>39</td>\n",
       "      <td>Jennifer Monson  Monson Real Estate &amp; Management</td>\n",
       "      <td>Townhouse</td>\n",
       "      <td>No Data</td>\n",
       "      <td>...</td>\n",
       "      <td>385002</td>\n",
       "      <td>91342</td>\n",
       "      <td>Sylmar</td>\n",
       "      <td>rise</td>\n",
       "      <td>increase</td>\n",
       "      <td>[[6,  Sylmar Leadership Academy Grades], [4,  ...</td>\n",
       "      <td>[2020-01-06, 2019-09-26]</td>\n",
       "      <td>[Price change, Listed for sale]</td>\n",
       "      <td>[385000.0, 400000.0]</td>\n",
       "      <td>2.2%</td>\n",
       "    </tr>\n",
       "    <tr>\n",
       "      <td>3</td>\n",
       "      <td>7115 Etiwanda Ave UNIT 13, Los Angeles, CA 91335</td>\n",
       "      <td>3 bds</td>\n",
       "      <td>3 ba</td>\n",
       "      <td>1,297 sqft</td>\n",
       "      <td>94 days</td>\n",
       "      <td>664</td>\n",
       "      <td>17</td>\n",
       "      <td>Karen Komenkul  Rodeo Realty</td>\n",
       "      <td>Townhouse</td>\n",
       "      <td>Attached Garage</td>\n",
       "      <td>...</td>\n",
       "      <td>400000</td>\n",
       "      <td>91335</td>\n",
       "      <td>Reseda</td>\n",
       "      <td>increase</td>\n",
       "      <td>increase</td>\n",
       "      <td>[[4,  Garden Grove Elementary School Grades], ...</td>\n",
       "      <td>[2019-10-06, 2010-07-28, 2003-03-12, 2001-07-0...</td>\n",
       "      <td>[Listed for sale, Sold, Sold, Sold, Sold, Sold...</td>\n",
       "      <td>[399999.0, 210000.0, 188000.0, 123000.0, 75000...</td>\n",
       "      <td>1.5%</td>\n",
       "    </tr>\n",
       "    <tr>\n",
       "      <td>4</td>\n",
       "      <td>708 E 76th Pl, Los Angeles, CA 90001</td>\n",
       "      <td>2 bds</td>\n",
       "      <td>2 ba</td>\n",
       "      <td>1,227 sqft</td>\n",
       "      <td>64 days</td>\n",
       "      <td>349</td>\n",
       "      <td>12</td>\n",
       "      <td></td>\n",
       "      <td>Single Family</td>\n",
       "      <td>Attached Garage</td>\n",
       "      <td>...</td>\n",
       "      <td></td>\n",
       "      <td>90001</td>\n",
       "      <td>Southeast Los Angeles</td>\n",
       "      <td>increase</td>\n",
       "      <td>increase</td>\n",
       "      <td>[[3,  Mckinley Avenue Elementary School Grades...</td>\n",
       "      <td>[]</td>\n",
       "      <td>[]</td>\n",
       "      <td>[]</td>\n",
       "      <td>5.8%</td>\n",
       "    </tr>\n",
       "  </tbody>\n",
       "</table>\n",
       "<p>5 rows × 23 columns</p>\n",
       "</div>"
      ],
      "text/plain": [
       "                                               title    bds    ba        sqft  \\\n",
       "0               436 W 75th St, Los Angeles, CA 90003  3 bds  2 ba  1,200 sqft   \n",
       "1   8435 Columbus Ave UNIT 10, Los Angeles, CA 91343  3 bds  3 ba  1,250 sqft   \n",
       "2  13901 Olive View Ln UNIT 53, Los Angeles, CA 9...  3 bds  3 ba  1,208 sqft   \n",
       "3   7115 Etiwanda Ave UNIT 13, Los Angeles, CA 91335  3 bds  3 ba  1,297 sqft   \n",
       "4               708 E 76th Pl, Los Angeles, CA 90001  2 bds  2 ba  1,227 sqft   \n",
       "\n",
       "  time on zillow  veiws saves  \\\n",
       "0       101 days  1,708    73   \n",
       "1        37 days  4,665   180   \n",
       "2       103 days  1,301    39   \n",
       "3        94 days    664    17   \n",
       "4        64 days    349    12   \n",
       "\n",
       "                                              agent           type  \\\n",
       "0     Emmanuel Ollawa  Prime West Management & Inv.  Single Family   \n",
       "1  Rene Fuentes  Coldwell Banker Quality Properties      Townhouse   \n",
       "2  Jennifer Monson  Monson Real Estate & Management      Townhouse   \n",
       "3                      Karen Komenkul  Rodeo Realty      Townhouse   \n",
       "4                                                    Single Family   \n",
       "\n",
       "           parking  ...  Zillow zipcode                    area prediction  \\\n",
       "0          1 space  ...  400033   90003      South Los Angeles    increase   \n",
       "1  Attached Garage  ...  375355   91343            North Hills    increase   \n",
       "2          No Data  ...  385002   91342                 Sylmar        rise   \n",
       "3  Attached Garage  ...  400000   91335                 Reseda    increase   \n",
       "4  Attached Garage  ...           90001  Southeast Los Angeles    increase   \n",
       "\n",
       "  prediction_combined                                        school_list  \\\n",
       "0            increase  [[2,  Sixty-Eighth Street Elementary School Gr...   \n",
       "1            increase  [[4,  Noble Avenue Elementary School Grades], ...   \n",
       "2            increase  [[6,  Sylmar Leadership Academy Grades], [4,  ...   \n",
       "3            increase  [[4,  Garden Grove Elementary School Grades], ...   \n",
       "4            increase  [[3,  Mckinley Avenue Elementary School Grades...   \n",
       "\n",
       "                                        history_date  \\\n",
       "0  [2019-11-11, 2019-09-29, 2017-10-25, 2017-09-0...   \n",
       "1               [2019-12-01, 1995-02-15, 1994-07-21]   \n",
       "2                           [2020-01-06, 2019-09-26]   \n",
       "3  [2019-10-06, 2010-07-28, 2003-03-12, 2001-07-0...   \n",
       "4                                                 []   \n",
       "\n",
       "                                      history_status  \\\n",
       "0  [Price change, Listed for sale, Sold, Pending ...   \n",
       "1                      [Listed for sale, Sold, Sold]   \n",
       "2                    [Price change, Listed for sale]   \n",
       "3  [Listed for sale, Sold, Sold, Sold, Sold, Sold...   \n",
       "4                                                 []   \n",
       "\n",
       "                                       history_price prediction_rate  \n",
       "0  [399950.0, 435000.0, 214000.0, 325000.0, 32500...            4.4%  \n",
       "1                       [370000.0, 80000.0, 66745.0]            2.3%  \n",
       "2                               [385000.0, 400000.0]            2.2%  \n",
       "3  [399999.0, 210000.0, 188000.0, 123000.0, 75000...            1.5%  \n",
       "4                                                 []            5.8%  \n",
       "\n",
       "[5 rows x 23 columns]"
      ]
     },
     "execution_count": 349,
     "metadata": {},
     "output_type": "execute_result"
    }
   ],
   "source": [
    "new_df = new_df.drop([\"history\",\"schools\",\"neighborhood_home\"], axis = 1)\n",
    "print(new_df.shape)\n",
    "new_df.head(5)"
   ]
  },
  {
   "cell_type": "code",
   "execution_count": 350,
   "metadata": {},
   "outputs": [
    {
     "name": "stdout",
     "output_type": "stream",
     "text": [
      "(773, 23)\n"
     ]
    },
    {
     "data": {
      "text/plain": [
       "array([3, 2, 4, 1, 6, 5, 7, 8])"
      ]
     },
     "execution_count": 350,
     "metadata": {},
     "output_type": "execute_result"
    }
   ],
   "source": [
    "# after excluding the studio, and lot records and then convert the rest of records from string to float data type \n",
    "new_df = new_df[(new_df[\"bds\"] != \"Studio\") & (new_df[\"bds\"].str.split().str[-1] != 'lot')]\n",
    "new_df[\"bds\"] = new_df[\"bds\"].str.split().str[0].astype('int')\n",
    "print(new_df.shape)\n",
    "new_df[\"bds\"].unique()\n"
   ]
  },
  {
   "cell_type": "code",
   "execution_count": 351,
   "metadata": {},
   "outputs": [
    {
     "name": "stdout",
     "output_type": "stream",
     "text": [
      "(770, 23)\n"
     ]
    },
    {
     "data": {
      "text/plain": [
       "array([2. , 3. , 1. , 4. , 5. , 6. , 2.5, 7. , 1.5])"
      ]
     },
     "execution_count": 351,
     "metadata": {},
     "output_type": "execute_result"
    }
   ],
   "source": [
    "# same as the baths\n",
    "new_df = new_df[new_df[\"ba\"] !='#NAME?']\n",
    "new_df[\"ba\"] = new_df[\"ba\"].str.split().str[0].astype('float')\n",
    "print(new_df.shape)\n",
    "new_df[\"ba\"].unique()\n",
    "\n"
   ]
  },
  {
   "cell_type": "code",
   "execution_count": 352,
   "metadata": {},
   "outputs": [
    {
     "data": {
      "text/plain": [
       "2,353 sqft     1\n",
       "1,362 sqft     1\n",
       "1,303 sqft     1\n",
       "3,655 sqft     1\n",
       "1,795 sqft     1\n",
       "              ..\n",
       "1 bd          16\n",
       "5 bds         16\n",
       "4 bds         35\n",
       "2 bds         72\n",
       "3 bds         82\n",
       "Name: sqft, Length: 451, dtype: int64"
      ]
     },
     "execution_count": 352,
     "metadata": {},
     "output_type": "execute_result"
    }
   ],
   "source": [
    "new_df[\"sqft\"].value_counts(ascending = True)"
   ]
  },
  {
   "cell_type": "code",
   "execution_count": 353,
   "metadata": {},
   "outputs": [],
   "source": [
    "# finding weird data of sqft column\n",
    "def convert_sqft(row):\n",
    "    result = row.split(\" \")\n",
    "    if result[-1] == 'sqft':\n",
    "        return float(result[0].replace(\",\",\"\"))\n",
    "    else:\n",
    "        return 0\n"
   ]
  },
  {
   "cell_type": "code",
   "execution_count": 354,
   "metadata": {},
   "outputs": [
    {
     "data": {
      "text/plain": [
       "0.0       231\n",
       "1390.0      4\n",
       "1250.0      4\n",
       "1800.0      4\n",
       "1200.0      4\n",
       "         ... \n",
       "570.0       1\n",
       "2054.0      1\n",
       "2154.0      1\n",
       "1951.0      1\n",
       "1255.0      1\n",
       "Name: sqft_num, Length: 444, dtype: int64"
      ]
     },
     "execution_count": 354,
     "metadata": {},
     "output_type": "execute_result"
    }
   ],
   "source": [
    "new_df[\"sqft_num\"] = new_df[\"sqft\"].apply(convert_sqft)\n",
    "new_df[\"sqft_num\"].value_counts()"
   ]
  },
  {
   "cell_type": "code",
   "execution_count": 355,
   "metadata": {},
   "outputs": [],
   "source": [
    "new_df[\"time on zillow\"] = new_df[\"time on zillow\"].str[:-4]"
   ]
  },
  {
   "cell_type": "code",
   "execution_count": null,
   "metadata": {},
   "outputs": [],
   "source": []
  },
  {
   "cell_type": "code",
   "execution_count": 356,
   "metadata": {},
   "outputs": [],
   "source": [
    "new_df[\"prediction_rate\"] = new_df[\"prediction_rate\"].str.replace(\"%\",\"\").astype('float')"
   ]
  },
  {
   "cell_type": "code",
   "execution_count": 357,
   "metadata": {},
   "outputs": [],
   "source": [
    "import numpy as np\n",
    "new_df[\"time on zillow\"] = pd.to_numeric(new_df[\"time on zillow\"], errors='coerce').fillna(0).astype(np.int64)\n",
    "new_df[\"veiws\"] = pd.to_numeric(new_df[\"veiws\"], errors='coerce').fillna(0).astype(np.int64)\n",
    "new_df[\"saves\"] = pd.to_numeric(new_df[\"saves\"], errors='coerce').fillna(0).astype(np.int64)\n",
    "new_df[\"Zillow\"] = pd.to_numeric(new_df[\"Zillow\"], errors='coerce').fillna(0).astype(np.int64)"
   ]
  },
  {
   "cell_type": "code",
   "execution_count": 358,
   "metadata": {},
   "outputs": [
    {
     "data": {
      "text/html": [
       "<div>\n",
       "<style scoped>\n",
       "    .dataframe tbody tr th:only-of-type {\n",
       "        vertical-align: middle;\n",
       "    }\n",
       "\n",
       "    .dataframe tbody tr th {\n",
       "        vertical-align: top;\n",
       "    }\n",
       "\n",
       "    .dataframe thead th {\n",
       "        text-align: right;\n",
       "    }\n",
       "</style>\n",
       "<table border=\"1\" class=\"dataframe\">\n",
       "  <thead>\n",
       "    <tr style=\"text-align: right;\">\n",
       "      <th></th>\n",
       "      <th>title</th>\n",
       "      <th>bds</th>\n",
       "      <th>ba</th>\n",
       "      <th>sqft</th>\n",
       "      <th>time on zillow</th>\n",
       "      <th>veiws</th>\n",
       "      <th>saves</th>\n",
       "      <th>agent</th>\n",
       "      <th>type</th>\n",
       "      <th>parking</th>\n",
       "      <th>...</th>\n",
       "      <th>zipcode</th>\n",
       "      <th>area</th>\n",
       "      <th>prediction</th>\n",
       "      <th>prediction_combined</th>\n",
       "      <th>school_list</th>\n",
       "      <th>history_date</th>\n",
       "      <th>history_status</th>\n",
       "      <th>history_price</th>\n",
       "      <th>prediction_rate</th>\n",
       "      <th>sqft_num</th>\n",
       "    </tr>\n",
       "  </thead>\n",
       "  <tbody>\n",
       "    <tr>\n",
       "      <td>0</td>\n",
       "      <td>436 W 75th St, Los Angeles, CA 90003</td>\n",
       "      <td>3</td>\n",
       "      <td>2.0</td>\n",
       "      <td>1,200 sqft</td>\n",
       "      <td>101</td>\n",
       "      <td>0</td>\n",
       "      <td>73</td>\n",
       "      <td>Emmanuel Ollawa  Prime West Management &amp; Inv.</td>\n",
       "      <td>Single Family</td>\n",
       "      <td>1 space</td>\n",
       "      <td>...</td>\n",
       "      <td>90003</td>\n",
       "      <td>South Los Angeles</td>\n",
       "      <td>increase</td>\n",
       "      <td>increase</td>\n",
       "      <td>[[2,  Sixty-Eighth Street Elementary School Gr...</td>\n",
       "      <td>[2019-11-11, 2019-09-29, 2017-10-25, 2017-09-0...</td>\n",
       "      <td>[Price change, Listed for sale, Sold, Pending ...</td>\n",
       "      <td>[399950.0, 435000.0, 214000.0, 325000.0, 32500...</td>\n",
       "      <td>4.4</td>\n",
       "      <td>1200.0</td>\n",
       "    </tr>\n",
       "    <tr>\n",
       "      <td>1</td>\n",
       "      <td>8435 Columbus Ave UNIT 10, Los Angeles, CA 91343</td>\n",
       "      <td>3</td>\n",
       "      <td>3.0</td>\n",
       "      <td>1,250 sqft</td>\n",
       "      <td>37</td>\n",
       "      <td>0</td>\n",
       "      <td>180</td>\n",
       "      <td>Rene Fuentes  Coldwell Banker Quality Properties</td>\n",
       "      <td>Townhouse</td>\n",
       "      <td>Attached Garage</td>\n",
       "      <td>...</td>\n",
       "      <td>91343</td>\n",
       "      <td>North Hills</td>\n",
       "      <td>increase</td>\n",
       "      <td>increase</td>\n",
       "      <td>[[4,  Noble Avenue Elementary School Grades], ...</td>\n",
       "      <td>[2019-12-01, 1995-02-15, 1994-07-21]</td>\n",
       "      <td>[Listed for sale, Sold, Sold]</td>\n",
       "      <td>[370000.0, 80000.0, 66745.0]</td>\n",
       "      <td>2.3</td>\n",
       "      <td>1250.0</td>\n",
       "    </tr>\n",
       "    <tr>\n",
       "      <td>2</td>\n",
       "      <td>13901 Olive View Ln UNIT 53, Los Angeles, CA 9...</td>\n",
       "      <td>3</td>\n",
       "      <td>3.0</td>\n",
       "      <td>1,208 sqft</td>\n",
       "      <td>103</td>\n",
       "      <td>0</td>\n",
       "      <td>39</td>\n",
       "      <td>Jennifer Monson  Monson Real Estate &amp; Management</td>\n",
       "      <td>Townhouse</td>\n",
       "      <td>No Data</td>\n",
       "      <td>...</td>\n",
       "      <td>91342</td>\n",
       "      <td>Sylmar</td>\n",
       "      <td>rise</td>\n",
       "      <td>increase</td>\n",
       "      <td>[[6,  Sylmar Leadership Academy Grades], [4,  ...</td>\n",
       "      <td>[2020-01-06, 2019-09-26]</td>\n",
       "      <td>[Price change, Listed for sale]</td>\n",
       "      <td>[385000.0, 400000.0]</td>\n",
       "      <td>2.2</td>\n",
       "      <td>1208.0</td>\n",
       "    </tr>\n",
       "    <tr>\n",
       "      <td>3</td>\n",
       "      <td>7115 Etiwanda Ave UNIT 13, Los Angeles, CA 91335</td>\n",
       "      <td>3</td>\n",
       "      <td>3.0</td>\n",
       "      <td>1,297 sqft</td>\n",
       "      <td>94</td>\n",
       "      <td>664</td>\n",
       "      <td>17</td>\n",
       "      <td>Karen Komenkul  Rodeo Realty</td>\n",
       "      <td>Townhouse</td>\n",
       "      <td>Attached Garage</td>\n",
       "      <td>...</td>\n",
       "      <td>91335</td>\n",
       "      <td>Reseda</td>\n",
       "      <td>increase</td>\n",
       "      <td>increase</td>\n",
       "      <td>[[4,  Garden Grove Elementary School Grades], ...</td>\n",
       "      <td>[2019-10-06, 2010-07-28, 2003-03-12, 2001-07-0...</td>\n",
       "      <td>[Listed for sale, Sold, Sold, Sold, Sold, Sold...</td>\n",
       "      <td>[399999.0, 210000.0, 188000.0, 123000.0, 75000...</td>\n",
       "      <td>1.5</td>\n",
       "      <td>1297.0</td>\n",
       "    </tr>\n",
       "    <tr>\n",
       "      <td>4</td>\n",
       "      <td>708 E 76th Pl, Los Angeles, CA 90001</td>\n",
       "      <td>2</td>\n",
       "      <td>2.0</td>\n",
       "      <td>1,227 sqft</td>\n",
       "      <td>64</td>\n",
       "      <td>349</td>\n",
       "      <td>12</td>\n",
       "      <td></td>\n",
       "      <td>Single Family</td>\n",
       "      <td>Attached Garage</td>\n",
       "      <td>...</td>\n",
       "      <td>90001</td>\n",
       "      <td>Southeast Los Angeles</td>\n",
       "      <td>increase</td>\n",
       "      <td>increase</td>\n",
       "      <td>[[3,  Mckinley Avenue Elementary School Grades...</td>\n",
       "      <td>[]</td>\n",
       "      <td>[]</td>\n",
       "      <td>[]</td>\n",
       "      <td>5.8</td>\n",
       "      <td>1227.0</td>\n",
       "    </tr>\n",
       "  </tbody>\n",
       "</table>\n",
       "<p>5 rows × 24 columns</p>\n",
       "</div>"
      ],
      "text/plain": [
       "                                               title  bds   ba        sqft  \\\n",
       "0               436 W 75th St, Los Angeles, CA 90003    3  2.0  1,200 sqft   \n",
       "1   8435 Columbus Ave UNIT 10, Los Angeles, CA 91343    3  3.0  1,250 sqft   \n",
       "2  13901 Olive View Ln UNIT 53, Los Angeles, CA 9...    3  3.0  1,208 sqft   \n",
       "3   7115 Etiwanda Ave UNIT 13, Los Angeles, CA 91335    3  3.0  1,297 sqft   \n",
       "4               708 E 76th Pl, Los Angeles, CA 90001    2  2.0  1,227 sqft   \n",
       "\n",
       "   time on zillow  veiws  saves  \\\n",
       "0             101      0     73   \n",
       "1              37      0    180   \n",
       "2             103      0     39   \n",
       "3              94    664     17   \n",
       "4              64    349     12   \n",
       "\n",
       "                                              agent           type  \\\n",
       "0     Emmanuel Ollawa  Prime West Management & Inv.  Single Family   \n",
       "1  Rene Fuentes  Coldwell Banker Quality Properties      Townhouse   \n",
       "2  Jennifer Monson  Monson Real Estate & Management      Townhouse   \n",
       "3                      Karen Komenkul  Rodeo Realty      Townhouse   \n",
       "4                                                    Single Family   \n",
       "\n",
       "           parking  ... zipcode                    area prediction  \\\n",
       "0          1 space  ...   90003      South Los Angeles    increase   \n",
       "1  Attached Garage  ...   91343            North Hills    increase   \n",
       "2          No Data  ...   91342                 Sylmar        rise   \n",
       "3  Attached Garage  ...   91335                 Reseda    increase   \n",
       "4  Attached Garage  ...   90001  Southeast Los Angeles    increase   \n",
       "\n",
       "   prediction_combined                                        school_list  \\\n",
       "0             increase  [[2,  Sixty-Eighth Street Elementary School Gr...   \n",
       "1             increase  [[4,  Noble Avenue Elementary School Grades], ...   \n",
       "2             increase  [[6,  Sylmar Leadership Academy Grades], [4,  ...   \n",
       "3             increase  [[4,  Garden Grove Elementary School Grades], ...   \n",
       "4             increase  [[3,  Mckinley Avenue Elementary School Grades...   \n",
       "\n",
       "                                        history_date  \\\n",
       "0  [2019-11-11, 2019-09-29, 2017-10-25, 2017-09-0...   \n",
       "1               [2019-12-01, 1995-02-15, 1994-07-21]   \n",
       "2                           [2020-01-06, 2019-09-26]   \n",
       "3  [2019-10-06, 2010-07-28, 2003-03-12, 2001-07-0...   \n",
       "4                                                 []   \n",
       "\n",
       "                                      history_status  \\\n",
       "0  [Price change, Listed for sale, Sold, Pending ...   \n",
       "1                      [Listed for sale, Sold, Sold]   \n",
       "2                    [Price change, Listed for sale]   \n",
       "3  [Listed for sale, Sold, Sold, Sold, Sold, Sold...   \n",
       "4                                                 []   \n",
       "\n",
       "                                       history_price prediction_rate sqft_num  \n",
       "0  [399950.0, 435000.0, 214000.0, 325000.0, 32500...             4.4   1200.0  \n",
       "1                       [370000.0, 80000.0, 66745.0]             2.3   1250.0  \n",
       "2                               [385000.0, 400000.0]             2.2   1208.0  \n",
       "3  [399999.0, 210000.0, 188000.0, 123000.0, 75000...             1.5   1297.0  \n",
       "4                                                 []             5.8   1227.0  \n",
       "\n",
       "[5 rows x 24 columns]"
      ]
     },
     "execution_count": 358,
     "metadata": {},
     "output_type": "execute_result"
    }
   ],
   "source": [
    "new_df.head(5)"
   ]
  },
  {
   "cell_type": "code",
   "execution_count": 359,
   "metadata": {},
   "outputs": [
    {
     "data": {
      "text/html": [
       "<div>\n",
       "<style scoped>\n",
       "    .dataframe tbody tr th:only-of-type {\n",
       "        vertical-align: middle;\n",
       "    }\n",
       "\n",
       "    .dataframe tbody tr th {\n",
       "        vertical-align: top;\n",
       "    }\n",
       "\n",
       "    .dataframe thead th {\n",
       "        text-align: right;\n",
       "    }\n",
       "</style>\n",
       "<table border=\"1\" class=\"dataframe\">\n",
       "  <thead>\n",
       "    <tr style=\"text-align: right;\">\n",
       "      <th></th>\n",
       "      <th>bds</th>\n",
       "      <th>ba</th>\n",
       "      <th>time on zillow</th>\n",
       "      <th>veiws</th>\n",
       "      <th>saves</th>\n",
       "      <th>Zillow</th>\n",
       "      <th>prediction_rate</th>\n",
       "      <th>sqft_num</th>\n",
       "    </tr>\n",
       "  </thead>\n",
       "  <tbody>\n",
       "    <tr>\n",
       "      <td>count</td>\n",
       "      <td>770.000000</td>\n",
       "      <td>770.000000</td>\n",
       "      <td>770.000000</td>\n",
       "      <td>770.000000</td>\n",
       "      <td>770.000000</td>\n",
       "      <td>7.700000e+02</td>\n",
       "      <td>760.000000</td>\n",
       "      <td>770.000000</td>\n",
       "    </tr>\n",
       "    <tr>\n",
       "      <td>mean</td>\n",
       "      <td>2.915584</td>\n",
       "      <td>2.474675</td>\n",
       "      <td>74.631169</td>\n",
       "      <td>91.616883</td>\n",
       "      <td>76.684416</td>\n",
       "      <td>6.591099e+05</td>\n",
       "      <td>3.674474</td>\n",
       "      <td>1070.232468</td>\n",
       "    </tr>\n",
       "    <tr>\n",
       "      <td>std</td>\n",
       "      <td>1.133204</td>\n",
       "      <td>1.026474</td>\n",
       "      <td>93.815712</td>\n",
       "      <td>236.599347</td>\n",
       "      <td>77.558504</td>\n",
       "      <td>2.946253e+05</td>\n",
       "      <td>2.455025</td>\n",
       "      <td>1036.101008</td>\n",
       "    </tr>\n",
       "    <tr>\n",
       "      <td>min</td>\n",
       "      <td>1.000000</td>\n",
       "      <td>1.000000</td>\n",
       "      <td>0.000000</td>\n",
       "      <td>0.000000</td>\n",
       "      <td>0.000000</td>\n",
       "      <td>0.000000e+00</td>\n",
       "      <td>0.100000</td>\n",
       "      <td>0.000000</td>\n",
       "    </tr>\n",
       "    <tr>\n",
       "      <td>25%</td>\n",
       "      <td>2.000000</td>\n",
       "      <td>2.000000</td>\n",
       "      <td>12.000000</td>\n",
       "      <td>0.000000</td>\n",
       "      <td>30.000000</td>\n",
       "      <td>4.592265e+05</td>\n",
       "      <td>2.000000</td>\n",
       "      <td>0.000000</td>\n",
       "    </tr>\n",
       "    <tr>\n",
       "      <td>50%</td>\n",
       "      <td>3.000000</td>\n",
       "      <td>2.000000</td>\n",
       "      <td>50.000000</td>\n",
       "      <td>0.000000</td>\n",
       "      <td>54.000000</td>\n",
       "      <td>6.535345e+05</td>\n",
       "      <td>2.900000</td>\n",
       "      <td>1140.000000</td>\n",
       "    </tr>\n",
       "    <tr>\n",
       "      <td>75%</td>\n",
       "      <td>3.000000</td>\n",
       "      <td>3.000000</td>\n",
       "      <td>100.000000</td>\n",
       "      <td>0.000000</td>\n",
       "      <td>96.000000</td>\n",
       "      <td>8.465390e+05</td>\n",
       "      <td>5.425000</td>\n",
       "      <td>1618.000000</td>\n",
       "    </tr>\n",
       "    <tr>\n",
       "      <td>max</td>\n",
       "      <td>8.000000</td>\n",
       "      <td>7.000000</td>\n",
       "      <td>1213.000000</td>\n",
       "      <td>996.000000</td>\n",
       "      <td>730.000000</td>\n",
       "      <td>1.810247e+06</td>\n",
       "      <td>12.500000</td>\n",
       "      <td>17400.000000</td>\n",
       "    </tr>\n",
       "  </tbody>\n",
       "</table>\n",
       "</div>"
      ],
      "text/plain": [
       "              bds          ba  time on zillow       veiws       saves  \\\n",
       "count  770.000000  770.000000      770.000000  770.000000  770.000000   \n",
       "mean     2.915584    2.474675       74.631169   91.616883   76.684416   \n",
       "std      1.133204    1.026474       93.815712  236.599347   77.558504   \n",
       "min      1.000000    1.000000        0.000000    0.000000    0.000000   \n",
       "25%      2.000000    2.000000       12.000000    0.000000   30.000000   \n",
       "50%      3.000000    2.000000       50.000000    0.000000   54.000000   \n",
       "75%      3.000000    3.000000      100.000000    0.000000   96.000000   \n",
       "max      8.000000    7.000000     1213.000000  996.000000  730.000000   \n",
       "\n",
       "             Zillow  prediction_rate      sqft_num  \n",
       "count  7.700000e+02       760.000000    770.000000  \n",
       "mean   6.591099e+05         3.674474   1070.232468  \n",
       "std    2.946253e+05         2.455025   1036.101008  \n",
       "min    0.000000e+00         0.100000      0.000000  \n",
       "25%    4.592265e+05         2.000000      0.000000  \n",
       "50%    6.535345e+05         2.900000   1140.000000  \n",
       "75%    8.465390e+05         5.425000   1618.000000  \n",
       "max    1.810247e+06        12.500000  17400.000000  "
      ]
     },
     "execution_count": 359,
     "metadata": {},
     "output_type": "execute_result"
    }
   ],
   "source": [
    "new_df.describe()"
   ]
  },
  {
   "cell_type": "code",
   "execution_count": 360,
   "metadata": {},
   "outputs": [],
   "source": [
    "data = new_df.copy()"
   ]
  },
  {
   "cell_type": "code",
   "execution_count": 361,
   "metadata": {},
   "outputs": [
    {
     "name": "stdout",
     "output_type": "stream",
     "text": [
      "<class 'pandas.core.frame.DataFrame'>\n",
      "Int64Index: 770 entries, 0 to 804\n",
      "Data columns (total 24 columns):\n",
      "title                  770 non-null object\n",
      "bds                    770 non-null int64\n",
      "ba                     770 non-null float64\n",
      "sqft                   770 non-null object\n",
      "time on zillow         770 non-null int64\n",
      "veiws                  770 non-null int64\n",
      "saves                  770 non-null int64\n",
      "agent                  770 non-null object\n",
      "type                   770 non-null object\n",
      "parking                770 non-null object\n",
      "buit                   770 non-null object\n",
      "lot                    770 non-null object\n",
      "HOA                    770 non-null object\n",
      "Zillow                 770 non-null int64\n",
      "zipcode                770 non-null object\n",
      "area                   770 non-null object\n",
      "prediction             760 non-null object\n",
      "prediction_combined    760 non-null object\n",
      "school_list            770 non-null object\n",
      "history_date           770 non-null object\n",
      "history_status         770 non-null object\n",
      "history_price          770 non-null object\n",
      "prediction_rate        760 non-null float64\n",
      "sqft_num               770 non-null float64\n",
      "dtypes: float64(3), int64(5), object(16)\n",
      "memory usage: 150.4+ KB\n"
     ]
    }
   ],
   "source": [
    "data.info()"
   ]
  },
  {
   "cell_type": "code",
   "execution_count": 362,
   "metadata": {},
   "outputs": [
    {
     "data": {
      "text/plain": [
       "<matplotlib.axes._subplots.AxesSubplot at 0x1273f9710>"
      ]
     },
     "execution_count": 362,
     "metadata": {},
     "output_type": "execute_result"
    },
    {
     "data": {
      "image/png": "[encoded data removed]",
      "text/plain": [
       "<Figure size 432x288 with 1 Axes>"
      ]
     },
     "metadata": {
      "needs_background": "light"
     },
     "output_type": "display_data"
    }
   ],
   "source": [
    "import matplotlib.pyplot as plt\n",
    "%matplotlib inline\n",
    "data.groupby('type').Zillow.mean().plot.bar()\n"
   ]
  },
  {
   "cell_type": "code",
   "execution_count": 363,
   "metadata": {},
   "outputs": [
    {
     "data": {
      "text/plain": [
       "<matplotlib.axes._subplots.AxesSubplot at 0x126e0e110>"
      ]
     },
     "execution_count": 363,
     "metadata": {},
     "output_type": "execute_result"
    },
    {
     "data": {
      "image/png": "[encoded data removed]",
      "text/plain": [
       "<Figure size 432x288 with 1 Axes>"
      ]
     },
     "metadata": {
      "needs_background": "light"
     },
     "output_type": "display_data"
    }
   ],
   "source": [
    "data.groupby('type')[\"title\"].count().plot.barh()"
   ]
  },
  {
   "cell_type": "code",
   "execution_count": 364,
   "metadata": {},
   "outputs": [
    {
     "name": "stdout",
     "output_type": "stream",
     "text": [
      "Index(['Woodland Hills ', 'Sylmar ', 'San Pedro ', 'Sherman Oaks ',\n",
      "       'Van Nuys ', 'South Los Angeles ', 'Northridge ',\n",
      "       'Downtown Los Angeles ', 'Highland Park ', 'Hollywood Hills '],\n",
      "      dtype='object')\n"
     ]
    }
   ],
   "source": [
    "top_10_list_area = (data.area.value_counts(ascending = False).index)[:10]\n",
    "print(top_10_list_area)"
   ]
  },
  {
   "cell_type": "code",
   "execution_count": 365,
   "metadata": {},
   "outputs": [],
   "source": [
    "# selecting rows based on condition \n",
    "top_10_df = data[data['area'].isin(top_10_list_area)] "
   ]
  },
  {
   "cell_type": "code",
   "execution_count": 366,
   "metadata": {},
   "outputs": [
    {
     "data": {
      "text/plain": [
       "<matplotlib.axes._subplots.AxesSubplot at 0x11f584290>"
      ]
     },
     "execution_count": 366,
     "metadata": {},
     "output_type": "execute_result"
    },
    {
     "data": {
      "image/png": "[encoded data removed]",
      "text/plain": [
       "<Figure size 432x288 with 1 Axes>"
      ]
     },
     "metadata": {
      "needs_background": "light"
     },
     "output_type": "display_data"
    }
   ],
   "source": [
    "top_10_df.groupby(\"area\")[\"title\"].count().plot.barh()"
   ]
  },
  {
   "cell_type": "code",
   "execution_count": 367,
   "metadata": {},
   "outputs": [
    {
     "data": {
      "text/plain": [
       "area                   prediction_combined\n",
       "Downtown Los Angeles   decrease               0.2\n",
       "Highland Park          increase               2.2\n",
       "Hollywood Hills        increase               8.3\n",
       "Northridge             increase               2.1\n",
       "San Pedro              increase               2.1\n",
       "Sherman Oaks           increase               7.0\n",
       "South Los Angeles      increase               4.4\n",
       "Sylmar                 increase               2.2\n",
       "Van Nuys               increase               3.0\n",
       "Woodland Hills         increase               2.0\n",
       "Name: prediction_rate, dtype: float64"
      ]
     },
     "execution_count": 367,
     "metadata": {},
     "output_type": "execute_result"
    }
   ],
   "source": [
    "top_10_g_p = top_10_df.groupby([\"area\",\"prediction_combined\"]).prediction_rate.max()\n",
    "top_10_g_p"
   ]
  },
  {
   "cell_type": "code",
   "execution_count": 368,
   "metadata": {},
   "outputs": [
    {
     "data": {
      "text/plain": [
       "<matplotlib.axes._subplots.AxesSubplot at 0x124ae1f90>"
      ]
     },
     "execution_count": 368,
     "metadata": {},
     "output_type": "execute_result"
    },
    {
     "data": {
      "image/png": "[encoded data removed]",
      "text/plain": [
       "<Figure size 432x288 with 1 Axes>"
      ]
     },
     "metadata": {
      "needs_background": "light"
     },
     "output_type": "display_data"
    }
   ],
   "source": [
    "bottom_10_list_area = (data.area.value_counts(ascending = False).index)[-10:]\n",
    "bottom_10_df = data[data['area'].isin(bottom_10_list_area)]\n",
    "bottom_10_df.groupby(\"area\")[\"title\"].count().plot.barh()"
   ]
  },
  {
   "cell_type": "code",
   "execution_count": 369,
   "metadata": {},
   "outputs": [
    {
     "data": {
      "text/plain": [
       "area               prediction_combined\n",
       "Beverlywood        increase               9.8\n",
       "Mid City West      increase               8.5\n",
       "Pico-Robertson     increase               6.3\n",
       "90019              increase               5.8\n",
       "Century City       increase               5.4\n",
       "Westlake           increase               5.1\n",
       "University Hills   increase               4.2\n",
       "Atwater Village    increase               3.3\n",
       "Harbor Gateway     increase               2.0\n",
       "Arleta             increase               1.7\n",
       "Name: prediction_rate, dtype: float64"
      ]
     },
     "execution_count": 369,
     "metadata": {},
     "output_type": "execute_result"
    }
   ],
   "source": [
    "bottom_10_df.groupby([\"area\",\"prediction_combined\"]).prediction_rate.max().sort_values(ascending = False)"
   ]
  },
  {
   "cell_type": "code",
   "execution_count": 370,
   "metadata": {},
   "outputs": [
    {
     "data": {
      "text/plain": [
       "3.7732070365358577"
      ]
     },
     "execution_count": 370,
     "metadata": {},
     "output_type": "execute_result"
    }
   ],
   "source": [
    "increase_df = data[data[\"prediction_combined\"] == \"increase\"]\n",
    "avg_increase = increase_df[\"prediction_rate\"].mean()\n",
    "avg_increase"
   ]
  },
  {
   "cell_type": "code",
   "execution_count": 371,
   "metadata": {},
   "outputs": [
    {
     "data": {
      "text/plain": [
       "0.20000000000000004"
      ]
     },
     "execution_count": 371,
     "metadata": {},
     "output_type": "execute_result"
    }
   ],
   "source": [
    "decrease_df = data[data[\"prediction_combined\"] == \"decrease\"]\n",
    "avg_decrease = decrease_df[\"prediction_rate\"].mean()\n",
    "avg_decrease"
   ]
  },
  {
   "cell_type": "code",
   "execution_count": 372,
   "metadata": {},
   "outputs": [
    {
     "data": {
      "text/plain": [
       "array(['Downtown Los Angeles '], dtype=object)"
      ]
     },
     "execution_count": 372,
     "metadata": {},
     "output_type": "execute_result"
    }
   ],
   "source": [
    "decrease_df[\"area\"].unique()"
   ]
  },
  {
   "cell_type": "code",
   "execution_count": 373,
   "metadata": {},
   "outputs": [],
   "source": [
    "school_df = data[[\"title\", \"area\",\"Zillow\",\"school_list\"]]"
   ]
  },
  {
   "cell_type": "code",
   "execution_count": 374,
   "metadata": {},
   "outputs": [
    {
     "name": "stderr",
     "output_type": "stream",
     "text": [
      "/opt/anaconda3/lib/python3.7/site-packages/ipykernel_launcher.py:1: SettingWithCopyWarning: \n",
      "A value is trying to be set on a copy of a slice from a DataFrame.\n",
      "Try using .loc[row_indexer,col_indexer] = value instead\n",
      "\n",
      "See the caveats in the documentation: http://pandas.pydata.org/pandas-docs/stable/user_guide/indexing.html#returning-a-view-versus-a-copy\n",
      "  \"\"\"Entry point for launching an IPython kernel.\n",
      "/opt/anaconda3/lib/python3.7/site-packages/ipykernel_launcher.py:2: SettingWithCopyWarning: \n",
      "A value is trying to be set on a copy of a slice from a DataFrame.\n",
      "Try using .loc[row_indexer,col_indexer] = value instead\n",
      "\n",
      "See the caveats in the documentation: http://pandas.pydata.org/pandas-docs/stable/user_guide/indexing.html#returning-a-view-versus-a-copy\n",
      "  \n",
      "/opt/anaconda3/lib/python3.7/site-packages/ipykernel_launcher.py:3: SettingWithCopyWarning: \n",
      "A value is trying to be set on a copy of a slice from a DataFrame.\n",
      "Try using .loc[row_indexer,col_indexer] = value instead\n",
      "\n",
      "See the caveats in the documentation: http://pandas.pydata.org/pandas-docs/stable/user_guide/indexing.html#returning-a-view-versus-a-copy\n",
      "  This is separate from the ipykernel package so we can avoid doing imports until\n",
      "/opt/anaconda3/lib/python3.7/site-packages/ipykernel_launcher.py:4: SettingWithCopyWarning: \n",
      "A value is trying to be set on a copy of a slice from a DataFrame.\n",
      "Try using .loc[row_indexer,col_indexer] = value instead\n",
      "\n",
      "See the caveats in the documentation: http://pandas.pydata.org/pandas-docs/stable/user_guide/indexing.html#returning-a-view-versus-a-copy\n",
      "  after removing the cwd from sys.path.\n",
      "/opt/anaconda3/lib/python3.7/site-packages/ipykernel_launcher.py:5: SettingWithCopyWarning: \n",
      "A value is trying to be set on a copy of a slice from a DataFrame.\n",
      "Try using .loc[row_indexer,col_indexer] = value instead\n",
      "\n",
      "See the caveats in the documentation: http://pandas.pydata.org/pandas-docs/stable/user_guide/indexing.html#returning-a-view-versus-a-copy\n",
      "  \"\"\"\n",
      "/opt/anaconda3/lib/python3.7/site-packages/ipykernel_launcher.py:6: SettingWithCopyWarning: \n",
      "A value is trying to be set on a copy of a slice from a DataFrame.\n",
      "Try using .loc[row_indexer,col_indexer] = value instead\n",
      "\n",
      "See the caveats in the documentation: http://pandas.pydata.org/pandas-docs/stable/user_guide/indexing.html#returning-a-view-versus-a-copy\n",
      "  \n"
     ]
    }
   ],
   "source": [
    "school_df[\"first_school_grade\"] = school_df[\"school_list\"].str[0].str[0]\n",
    "school_df[\"first_school\"] = school_df[\"school_list\"].str[0].str[1]\n",
    "school_df[\"second_school_grade\"] = school_df[\"school_list\"].str[1].str[0]\n",
    "school_df[\"second_school\"] = school_df[\"school_list\"].str[1].str[1]\n",
    "school_df[\"third_school_grade\"] = school_df[\"school_list\"].str[2].str[0]\n",
    "school_df[\"third_school\"] = school_df[\"school_list\"].str[2].str[1]"
   ]
  },
  {
   "cell_type": "code",
   "execution_count": 375,
   "metadata": {},
   "outputs": [
    {
     "data": {
      "text/html": [
       "<div>\n",
       "<style scoped>\n",
       "    .dataframe tbody tr th:only-of-type {\n",
       "        vertical-align: middle;\n",
       "    }\n",
       "\n",
       "    .dataframe tbody tr th {\n",
       "        vertical-align: top;\n",
       "    }\n",
       "\n",
       "    .dataframe thead th {\n",
       "        text-align: right;\n",
       "    }\n",
       "</style>\n",
       "<table border=\"1\" class=\"dataframe\">\n",
       "  <thead>\n",
       "    <tr style=\"text-align: right;\">\n",
       "      <th></th>\n",
       "      <th>first_school_grade</th>\n",
       "      <th>Zillow</th>\n",
       "    </tr>\n",
       "    <tr>\n",
       "      <th>first_school</th>\n",
       "      <th></th>\n",
       "      <th></th>\n",
       "    </tr>\n",
       "  </thead>\n",
       "  <tbody>\n",
       "    <tr>\n",
       "      <td>schools nearby We couldn't find any schools near this home.</td>\n",
       "      <td>No schools nearby We couldn't find any schools...</td>\n",
       "      <td>6.816671e+05</td>\n",
       "    </tr>\n",
       "    <tr>\n",
       "      <td>Washington Primary Center School Grades</td>\n",
       "      <td>NA Washington Primary Center School Grade</td>\n",
       "      <td>5.094920e+05</td>\n",
       "    </tr>\n",
       "    <tr>\n",
       "      <td>Richard Riordan Primary Center Grades</td>\n",
       "      <td>NA Richard Riordan Primary Center Grade</td>\n",
       "      <td>1.150006e+06</td>\n",
       "    </tr>\n",
       "    <tr>\n",
       "      <td>Maxine Waters Employment Prep Center Grades</td>\n",
       "      <td>NA Maxine Waters Employment Prep Center Grade</td>\n",
       "      <td>4.404610e+05</td>\n",
       "    </tr>\n",
       "    <tr>\n",
       "      <td>Danny J. Bakewell, Sr., Primary Center Grades</td>\n",
       "      <td>NA Danny J. Bakewell, Sr., Primary Center Grade</td>\n",
       "      <td>3.134275e+05</td>\n",
       "    </tr>\n",
       "    <tr>\n",
       "      <td>...</td>\n",
       "      <td>...</td>\n",
       "      <td>...</td>\n",
       "    </tr>\n",
       "    <tr>\n",
       "      <td>Fifty-Ninth Street Elementary School Grades</td>\n",
       "      <td>1</td>\n",
       "      <td>5.267135e+05</td>\n",
       "    </tr>\n",
       "    <tr>\n",
       "      <td>La Salle Avenue Elementary School Grades</td>\n",
       "      <td>1</td>\n",
       "      <td>6.348897e+05</td>\n",
       "    </tr>\n",
       "    <tr>\n",
       "      <td>Western Avenue Elementary School Grades</td>\n",
       "      <td>1</td>\n",
       "      <td>5.990050e+05</td>\n",
       "    </tr>\n",
       "    <tr>\n",
       "      <td>Aragon Avenue Elementary School Grades</td>\n",
       "      <td>1</td>\n",
       "      <td>5.971010e+05</td>\n",
       "    </tr>\n",
       "    <tr>\n",
       "      <td></td>\n",
       "      <td></td>\n",
       "      <td>2.765406e+05</td>\n",
       "    </tr>\n",
       "  </tbody>\n",
       "</table>\n",
       "<p>296 rows × 2 columns</p>\n",
       "</div>"
      ],
      "text/plain": [
       "                                                                                   first_school_grade  \\\n",
       "first_school                                                                                            \n",
       " schools nearby We couldn't find any schools ne...  No schools nearby We couldn't find any schools...   \n",
       " Washington Primary Center School Grades                    NA Washington Primary Center School Grade   \n",
       " Richard Riordan Primary Center Grades                        NA Richard Riordan Primary Center Grade   \n",
       " Maxine Waters Employment Prep Center Grades            NA Maxine Waters Employment Prep Center Grade   \n",
       " Danny J. Bakewell, Sr., Primary Center Grades        NA Danny J. Bakewell, Sr., Primary Center Grade   \n",
       "...                                                                                               ...   \n",
       " Fifty-Ninth Street Elementary School Grades                                                        1   \n",
       " La Salle Avenue Elementary School Grades                                                           1   \n",
       " Western Avenue Elementary School Grades                                                            1   \n",
       " Aragon Avenue Elementary School Grades                                                             1   \n",
       "                                                                                                        \n",
       "\n",
       "                                                          Zillow  \n",
       "first_school                                                      \n",
       " schools nearby We couldn't find any schools ne...  6.816671e+05  \n",
       " Washington Primary Center School Grades            5.094920e+05  \n",
       " Richard Riordan Primary Center Grades              1.150006e+06  \n",
       " Maxine Waters Employment Prep Center Grades        4.404610e+05  \n",
       " Danny J. Bakewell, Sr., Primary Center Grades      3.134275e+05  \n",
       "...                                                          ...  \n",
       " Fifty-Ninth Street Elementary School Grades        5.267135e+05  \n",
       " La Salle Avenue Elementary School Grades           6.348897e+05  \n",
       " Western Avenue Elementary School Grades            5.990050e+05  \n",
       " Aragon Avenue Elementary School Grades             5.971010e+05  \n",
       "                                                    2.765406e+05  \n",
       "\n",
       "[296 rows x 2 columns]"
      ]
     },
     "execution_count": 375,
     "metadata": {},
     "output_type": "execute_result"
    }
   ],
   "source": [
    "school_df.groupby(\"first_school\").agg({'first_school_grade':'max', 'Zillow':'mean'}).sort_values('first_school_grade', ascending = False)"
   ]
  },
  {
   "cell_type": "code",
   "execution_count": 376,
   "metadata": {},
   "outputs": [
    {
     "data": {
      "text/plain": [
       "4                                                                126\n",
       "8                                                                105\n",
       "5                                                                101\n",
       "2                                                                100\n",
       "3                                                                 90\n",
       "6                                                                 64\n",
       "7                                                                 62\n",
       "9                                                                 48\n",
       "1                                                                 28\n",
       "10                                                                23\n",
       "                                                                  10\n",
       "No schools nearby We couldn't find any schools near this home      7\n",
       "NA Danny J. Bakewell, Sr., Primary Center Grade                    2\n",
       "NA Washington Primary Center School Grade                          2\n",
       "NA Richard Riordan Primary Center Grade                            1\n",
       "NA Maxine Waters Employment Prep Center Grade                      1\n",
       "Name: first_school_grade, dtype: int64"
      ]
     },
     "execution_count": 376,
     "metadata": {},
     "output_type": "execute_result"
    }
   ],
   "source": [
    "school_df[\"first_school_grade\"].value_counts()"
   ]
  },
  {
   "cell_type": "code",
   "execution_count": null,
   "metadata": {},
   "outputs": [],
   "source": []
  },
  {
   "cell_type": "code",
   "execution_count": null,
   "metadata": {},
   "outputs": [],
   "source": []
  }
 ],
 "metadata": {
  "kernelspec": {
   "display_name": "Python 3",
   "language": "python",
   "name": "python3"
  },
  "language_info": {
   "codemirror_mode": {
    "name": "ipython",
    "version": 3
   },
   "file_extension": ".py",
   "mimetype": "text/x-python",
   "name": "python",
   "nbconvert_exporter": "python",
   "pygments_lexer": "ipython3",
   "version": "3.7.4"
  }
 },
 "nbformat": 4,
 "nbformat_minor": 2
}
